{
 "cells": [
  {
   "cell_type": "code",
   "execution_count": 17,
   "metadata": {},
   "outputs": [],
   "source": [
    "import requests\n",
    "from bs4 import BeautifulSoup\n",
    "import pandas as pd\n",
    "import numpy as np\n",
    "from selenium import webdriver\n",
    "from selenium.webdriver.common.keys import Keys\n",
    "from selenium.webdriver.chrome.options import Options\n",
    "import time\n",
    "import re\n",
    "from datetime import datetime, timedelta\n",
    "import pymysql\n",
    "from selenium.webdriver.support.ui import WebDriverWait"
   ]
  },
  {
   "cell_type": "code",
   "execution_count": 20,
   "metadata": {},
   "outputs": [],
   "source": [
    "url=\"https://www.amazon.com/-/zh_TW/s?i=electronics-intl-ship&bbn=16225009011&rh=n%3A541966%2Cn%3A193870011%2Cn%3A17923671011%2Cn%3A284822&dc&page={}&language=zh_TW&qid=1598425548&rnid=17923671011&ref=sr_pg_{}\"\n",
    "options = webdriver.ChromeOptions()\n",
    "options.add_argument(\"--disable-notifications\")\n",
    "options.add_argument('headless')\n",
    "\n",
    "chrome = webdriver.Chrome('./chromedriver')\n",
    "\n",
    "search_date = datetime.strftime(datetime.now() , '%Y-%m-%d')\n",
    "# 資料庫設定\n",
    "db_settings = {\n",
    "    \"host\": \"127.0.0.1\",\n",
    "    \"port\": 3307, \n",
    "    \"user\": \"root\",\n",
    "    \"password\": \"0531\",\n",
    "    \"db\": \"python\",\n",
    "    \"charset\": \"utf8\"\n",
    "}\n",
    "conn = pymysql.connect(**db_settings)"
   ]
  },
  {
   "cell_type": "code",
   "execution_count": 26,
   "metadata": {},
   "outputs": [
    {
     "name": "stdout",
     "output_type": "stream",
     "text": [
      "INSERT INTO `price_comparison` (`brand`, `brand_item`,`price`, `page`, `search_date`) VALUES ( MSI, MSI Gaming Radeon RX GDRR5 DirectX 12 VR Ready CFX 顯示卡,8600,1,2021-01-04);\n",
      "INSERT INTO `price_comparison` (`brand`, `brand_item`,`price`, `page`, `search_date`) VALUES ( MSI微星, MSI微星 Gaming GeForce RTX 3070 8GB GDRR6 256-Bit HDMI/DP TORX 風扇 3.0 Ampere Architecture OC 顯示卡(RTX 3070 Ventus 3X OC),25229,1,2021-01-04);\n",
      "INSERT INTO `price_comparison` (`brand`, `brand_item`,`price`, `page`, `search_date`) VALUES ( Gigabyte, Gigabyte 技嘉 Radeon RX 580 電競 8GB 顯示卡 GV-RX580GAMING-8GD REV2.0,8572,1,2021-01-04);\n",
      "INSERT INTO `price_comparison` (`brand`, `brand_item`,`price`, `page`, `search_date`) VALUES ( Gigabyte, Gigabyte 技嘉 Geforce GTX 1050 Ti 顯示卡 內建 4GB 記憶體 搭載風之力風扇 繪圖晶片（GV-N105TWF2OC-4GD）,7167,1,2021-01-04);\n",
      "INSERT INTO `price_comparison` (`brand`, `brand_item`,`price`, `page`, `search_date`) VALUES ( Gigabyte, Gigabyte 技嘉 GV-N1030OC-2GI Nvidia GeForce GT 1030 OC 2G 顯示卡,2551,1,2021-01-04);\n",
      "INSERT INTO `price_comparison` (`brand`, `brand_item`,`price`, `page`, `search_date`) VALUES ( MSI微星, MSI微星 Gaming GeForce GT 710 2GB GDRR3 64-bit HDCP 支援 DirectX 12 OpenGL 4.5 單風扇低調顯卡(GT 710 2GD3 LP),1490,1,2021-01-04);\n",
      "INSERT INTO `price_comparison` (`brand`, `brand_item`,`price`, `page`, `search_date`) VALUES ( MSI微星, MSI微星 Gaming GeForce GTX 1650 128-Bit HDMI/DP 4GB GDRR6 HDCP 支援 DirectX 12 雙風扇 VR Ready OC 顯示卡(GTX 1650 D6 Gaming X),11439,1,2021-01-04);\n",
      "INSERT INTO `price_comparison` (`brand`, `brand_item`,`price`, `page`, `search_date`) VALUES ( Gigabyte, Gigabyte 技嘉 GeForce GT 1030 GV-N1030D5-2GL 低調 2G 電腦顯示卡,2422,1,2021-01-04);\n",
      "INSERT INTO `price_comparison` (`brand`, `brand_item`,`price`, `page`, `search_date`) VALUES ( MSI, MSI 微星 Gaming Radeon RX 5600 XT Boost Clock 顯卡： 1620 MHz 192 位元 6GB GDDR6 DP/HDMI 雙梅花型 3.0 風扇,15739,1,2021-01-04);\n",
      "INSERT INTO `price_comparison` (`brand`, `brand_item`,`price`, `page`, `search_date`) VALUES ( MSI微星, MSI微星 Gaming GeForce RTX 3060 Ti 8GB GDRR6 256-Bit HDMI/DP Tri-Frozr 2 TORX Fan 4.0 Ampere Architecture RGB OC 顯示卡 (RTX 3060 Ti Gaming X Trio),23566,1,2021-01-04);\n",
      "INSERT INTO `price_comparison` (`brand`, `brand_item`,`price`, `page`, `search_date`) VALUES ( MSI微星, MSI微星 Gaming GeForce RTX 3090 24GB GDRR6X 384-Bit HDMI/DP Nvlink Tri-Frozr 2 Ampere Architecture OC 顯示卡 (RTX 3090 GAMING X TRIO 24G),62787,1,2021-01-04);\n",
      "INSERT INTO `price_comparison` (`brand`, `brand_item`,`price`, `page`, `search_date`) VALUES ( ZOTAC, ZOTAC Gaming GeForce RTX 3060 Ti Twin Edge OC 8GB GDDR6 256-bit 14 Gbps PCIE 4.0 遊戲顯示卡,IceStorm 2.0 進階冷卻,主動式風扇控制,凍結風扇停止 ZT-A30610H -10M,21215,1,2021-01-04);\n",
      "INSERT INTO `price_comparison` (`brand`, `brand_item`,`price`, `page`, `search_date`) VALUES ( MSI微星, MSI微星 GeForce RTX 3090 RTX 3090 SUPRIM X 24G 24GB 384-Bit GDDR6X 顯示卡,64507,1,2021-01-04);\n",
      "INSERT INTO `price_comparison` (`brand`, `brand_item`,`price`, `page`, `search_date`) VALUES ( Sapphire, Sapphire 11265-05-20G Radeon Pulse RX 580，8GB，GDDR5（第五版圖形用雙倍資料傳輸率記憶體），雙 HDMI / DVI-D /雙 DP，超頻版本，帶背板（UEFI），PCI-E 接口 顯示卡,11152,1,2021-01-04);\n",
      "INSERT INTO `price_comparison` (`brand`, `brand_item`,`price`, `page`, `search_date`) VALUES ( MSI微星, MSI微星 Gaming GeForce RTX 3060 Ti 8GB GDRR6 256 位元 HDMI/DP TORX 風扇 3.0 Ampere Architecture OC 顯示卡(RTX 3060 Ti Ventus 2X OC),0,1,2021-01-04);\n",
      "INSERT INTO `price_comparison` (`brand`, `brand_item`,`price`, `page`, `search_date`) VALUES ( MSI, MSI 顯卡 GT 1030 2G LP OC,2379,1,2021-01-04);\n",
      "INSERT INTO `price_comparison` (`brand`, `brand_item`,`price`, `page`, `search_date`) VALUES ( ZOTAC, ZOTAC GeForce GT 730 Zone Edition 4GB DDR3 PCI Express 2.0 x16 (x8 通道) 顯示卡(ZT-71115-20L),2293,1,2021-01-04);\n",
      "INSERT INTO `price_comparison` (`brand`, `brand_item`,`price`, `page`, `search_date`) VALUES ( EVGA, EVGA 艾維克 GeForce GTX 1650 KO Ultra GDDR6 遊戲,04G-P4-1457-KR,4GB GDDR6,雙風扇,金屬背板,7997,1,2021-01-04);\n",
      "INSERT INTO `price_comparison` (`brand`, `brand_item`,`price`, `page`, `search_date`) VALUES ( Gigabyte, Gigabyte 技嘉 Radeon RX 5700 XT 遊戲 OC 8G (rev 2.0) 顯卡,PCIe 4.0,8GB 256-Bit GDDR6,GV-R57XTGAMING OC-8GD REV2.0 顯卡,21501,1,2021-01-04);\n",
      "INSERT INTO `price_comparison` (`brand`, `brand_item`,`price`, `page`, `search_date`) VALUES ( MSI, MSI 微星 Gaming GeForce GTX 1060 6GB GDDR5 DirectX 12 VR Ready （GeForce GTX 1060 Gaming X 6G）顯示卡,9145,1,2021-01-04);\n",
      "INSERT INTO `price_comparison` (`brand`, `brand_item`,`price`, `page`, `search_date`) VALUES ( Sapphire, Sapphire 11265-67-20G Radeon Pulse RX 580 8GB GDDR5 雙 HDMI / 雙 DP OC 附背板 (UEFI) PCI-E 顯示卡,0,1,2021-01-04);\n",
      "INSERT INTO `price_comparison` (`brand`, `brand_item`,`price`, `page`, `search_date`) VALUES ( MSI, MSI Gaming GeForce GTX 1650 128 位元 HDMI/DP/DVI 4GB GDRR6 HDCP 支援 DirectX 12 VR Ready OC 顯示卡 (GTX 1650 D6 Ventus XS OCV1),9316,1,2021-01-04);\n",
      "INSERT INTO `price_comparison` (`brand`, `brand_item`,`price`, `page`, `search_date`) VALUES ( ZOTAC, ZOTAC 電競 GeForce GTX 1660 6GB GDDR5 192 位元遊戲顯示卡,超小巧、ZT-T16600K-10M,11753,1,2021-01-04);\n",
      "INSERT INTO `price_comparison` (`brand`, `brand_item`,`price`, `page`, `search_date`) VALUES ( Asus, Asus 華碩 GeForce GT 710 2GB GDDR5 HDMI VGA DVI 顯示卡 GT710-SL-2GD5-CSM,1576,1,2021-01-04);\n",
      "INSERT INTO `price_comparison` (`brand`, `brand_item`,`price`, `page`, `search_date`) VALUES ( ASUS, ASUS 華碩 ROG Strix Riser Cable PCI-E 3.0 x16 高速彈性擴展卡延長端口,90 度適配器(240 公釐),1719,2,2021-01-04);\n",
      "INSERT INTO `price_comparison` (`brand`, `brand_item`,`price`, `page`, `search_date`) VALUES ( MSI微星, MSI微星 Gaming GeForce GTX 1660 192-Bit HDMI/DP 6GB GDRR5 HDCP 支援 DirectX 12 雙風扇 VR Ready OC 顯示卡 (GTX 1660 VENTUS XS 6G OC),0,2,2021-01-04);\n",
      "INSERT INTO `price_comparison` (`brand`, `brand_item`,`price`, `page`, `search_date`) VALUES ( upHere, upHere 顯卡 GPU 支架 支援視頻卡下垂支架 / 皮套支架 陽極氧化航空航太鋁 單個或雙插槽卡 (黑色),GL05,286,2,2021-01-04);\n",
      "INSERT INTO `price_comparison` (`brand`, `brand_item`,`price`, `page`, `search_date`) VALUES ( MSI微星, MSI微星 Gaming Radeon RX 5500 XT Boost Clock: 1845 MHz 128-bit 8GB GDDR6 DP/HDMI 雙 Torx 3.0 Fans Crossfire Freesync VR Ready 顯示卡 (RX 5500 XT 遊戲 X 8G),10606,2,2021-01-04);\n",
      "INSERT INTO `price_comparison` (`brand`, `brand_item`,`price`, `page`, `search_date`) VALUES ( PNY, PNY NVIDIA Quadro RTX 4000 - 世界第一射線追蹤 GPU,25831,2,2021-01-04);\n",
      "INSERT INTO `price_comparison` (`brand`, `brand_item`,`price`, `page`, `search_date`) VALUES ( ZOTAC, ZOTAC GeForce GT 1030 2GB GDDR5 64-bit PCIe 3.0 DirectX 12 HDCP Ready 薄型顯示卡 ZT-P10300A-10L,2436,2,2021-01-04);\n",
      "INSERT INTO `price_comparison` (`brand`, `brand_item`,`price`, `page`, `search_date`) VALUES ( VisionTek, VisionTek Radeon 5450 2GB DDR3 (DVI-I、HDMI、VGA) 顯示卡 - 900861,黑色/紅色,1220,2,2021-01-04);\n",
      "INSERT INTO `price_comparison` (`brand`, `brand_item`,`price`, `page`, `search_date`) VALUES ( Gigabyte, Gigabyte 技嘉 GeForce GT 710 2GB 顯示卡並支援 PCI Express 2.0 X8 匯流排介面顯示卡 Gv-N710D5-2Gil,1433,2,2021-01-04);\n",
      "INSERT INTO `price_comparison` (`brand`, `brand_item`,`price`, `page`, `search_date`) VALUES ( Asus, Asus GeForce GTX 1660 Super Overclocked 6GB Dual-Fan Evo Edition VR Ready HDMI DisplayPort DVI Graphics Card (DUAL-GTX1660S-O6G-EVO),15767,2,2021-01-04);\n",
      "INSERT INTO `price_comparison` (`brand`, `brand_item`,`price`, `page`, `search_date`) VALUES ( MSI微星, MSI微星 Gaming GeForce GTX 1660 Ti 192-bit HDMI/DP 6GB GDRR6 HDCP 支援 DirectX 12 雙風扇 VR Ready OC 顯示卡 (GTX 1660 TI VENTUS XS 6G OC),16600,2,2021-01-04);\n",
      "INSERT INTO `price_comparison` (`brand`, `brand_item`,`price`, `page`, `search_date`) VALUES ( GIGABYTE, GIGABYTE 技嘉 Radeon RX 5600 XT 遊戲 OC 6G (2.0 版) 顯示卡,PCIe 4.0,6GB 192-Bit GDDR6,GV-R56XTGAMING OC-6GD REV2.0 顯示卡,17144,2,2021-01-04);\n",
      "INSERT INTO `price_comparison` (`brand`, `brand_item`,`price`, `page`, `search_date`) VALUES ( Cooler, Cooler Master MasterAccessory 垂直顯示卡支架套件 2 版,附頂級立卡電纜 PCI-E 3.0 x16-165 公釐,相容於所有標準 ATX 機殼(MCA-U000R-KFVK01),1433,2,2021-01-04);\n",
      "INSERT INTO `price_comparison` (`brand`, `brand_item`,`price`, `page`, `search_date`) VALUES ( MSI, MSI Gaming Radeon RX GDRR5 DirectX 12 VR Ready CFX 顯示卡,7941,2,2021-01-04);\n",
      "INSERT INTO `price_comparison` (`brand`, `brand_item`,`price`, `page`, `search_date`) VALUES ( MHQJRH, MHQJRH 顯示卡 GPU 支架,視頻卡凹陷支架,陽極氧化航空鋁(黑色),372,2,2021-01-04);\n",
      "INSERT INTO `price_comparison` (`brand`, `brand_item`,`price`, `page`, `search_date`) VALUES ( EVGA, EVGA GeForce GTX 1080 Ti Gaming 11GB GDDR5X iCX 技術 - 9 個熱感應器和 RGB LED G/P/M 顯示卡(11G-P4-6591-KR)(翻新),24369,2,2021-01-04);\n"
     ]
    },
    {
     "name": "stdout",
     "output_type": "stream",
     "text": [
      "INSERT INTO `price_comparison` (`brand`, `brand_item`,`price`, `page`, `search_date`) VALUES ( ZOTAC, ZOTAC Gaming GeForce RTX 3060 Ti Twin Edge 8GB GDDR6 256-bit 14 Gbps PCIE 4.0 遊戲顯示卡,IceStorm 2.0 進階冷卻,主動式風扇控制,ZT-A30610E-10M,0,2,2021-01-04);\n",
      "INSERT INTO `price_comparison` (`brand`, `brand_item`,`price`, `page`, `search_date`) VALUES ( ASUS, ASUS 華碩 ROG Strix AMD Radeon RX 5600 XT TOP Edition 遊戲顯示卡 (PCIe 4.0、6GB GDDR6 記憶體、HDMI、DisplayPort、1080p 遊戲、Axial-tech 風扇設計、自動至尊、金屬背板),15480,2,2021-01-04);\n",
      "INSERT INTO `price_comparison` (`brand`, `brand_item`,`price`, `page`, `search_date`) VALUES ( Asus, Asus PH-GT1030-O2G GeForce GT 1030 2GB Phoenix Fan OC Edition HDMI DVI 顯示卡,2474,2,2021-01-04);\n",
      "INSERT INTO `price_comparison` (`brand`, `brand_item`,`price`, `page`, `search_date`) VALUES ( Gigabyte, Gigabyte GeForce GT 710 1GB Graphic Cards and Support PCI Express 2.0 X8 Bus Interface. 內部記憶體: 1 GB Graphic Cards GV-N710D5-1GL REV2.0 藍色,1031,2,2021-01-04);\n",
      "INSERT INTO `price_comparison` (`brand`, `brand_item`,`price`, `page`, `search_date`) VALUES ( Gigabyte, Gigabyte 技嘉 GeForce GTX 1650 D6 WINDFORCE OC 4G (rev.2.0) 顯卡,172 公釐小巧尺寸,4GB 128 位元 GDDR6,GV-N1656WF2OC-4GD REV2.0 顯卡,9603,2,2021-01-04);\n",
      "INSERT INTO `price_comparison` (`brand`, `brand_item`,`price`, `page`, `search_date`) VALUES ( Gigabyte, Gigabyte 技嘉 Gv-N1660OC-6GD GeForce GTX 1660 OC 6G 顯示卡,2X Windforce 風扇,6GB 192 位元 GDDR5,顯示卡,15739,2,2021-01-04);\n",
      "INSERT INTO `price_comparison` (`brand`, `brand_item`,`price`, `page`, `search_date`) VALUES ( Sapphire, Sapphire 11295-05-20G Radeon Nitro+ RX 5500 XT 8GB GDDR6 雙 HDMI / 雙 DP OC 附背板 (UEFI) 特別版 PCIe 4.0 顯示卡,13760,2,2021-01-04);\n",
      "INSERT INTO `price_comparison` (`brand`, `brand_item`,`price`, `page`, `search_date`) VALUES ( Asus, Asus TUF 電競 GeForce GTX 1660 超頻 6GB 版 HDMI DP DVI 遊戲顯示卡(TUF-GTX1660S-O6G-GAMING),13331,2,2021-01-04);\n",
      "INSERT INTO `price_comparison` (`brand`, `brand_item`,`price`, `page`, `search_date`) VALUES ( VisionTek, VisionTek Radeon 7750 2GB GDDR5 SFF 顯卡，4k 2 DisplayPort 1.2，PCIe，7.1 環繞聲，包含全高支架（900942）,3726,2,2021-01-04);\n",
      "總共耗時:68.960116 秒\n"
     ]
    }
   ],
   "source": [
    "\n",
    "tStart = time.time()\n",
    "for i in range(1,3):\n",
    "    chrome.get(url.format(i,i))\n",
    "    #加入台幣的cookie，預設為美金\n",
    "    chrome.delete_cookie(\"i18n-prefs\")    \n",
    "    chrome.add_cookie({\"name\":\"i18n-prefs\",\"value\": \"TWD\"})\n",
    "    chrome.refresh()\n",
    "    try:\n",
    "        soup = BeautifulSoup(chrome.page_source,'lxml')\n",
    "        amazon_card=soup.select('div[class=\"a-section a-spacing-medium\"] > div[class=\"sg-row\"] > div[class=\"sg-col-4-of-12 sg-col-8-of-16 sg-col-12-of-20 sg-col\"]')\n",
    "        if len(amazon_card) == 0:\n",
    "            amazon_card = soup.find_all(class_=\"s-expand-height s-include-content-margin s-border-bottom s-latency-cf-section\")\n",
    "        with conn.cursor() as cursor:\n",
    "            for datas in amazon_card:                \n",
    "                try:\n",
    "                    brand_item = datas.find('span',{'class':'a-size-medium a-color-base a-text-normal'}).text        \n",
    "                except:\n",
    "                    brand_item = datas.find('span',{'class':'a-size-base-plus a-color-base a-text-normal'}).text \n",
    "                try:                    \n",
    "                    price = int(datas.find('span',{'class':'a-price-whole'}).text.strip('.').replace(',',''))\n",
    "                except:\n",
    "                    price_url = datas.find('a',{'class':'a-link-normal a-text-normal'}).get('href')    \n",
    "                    chrome.get('https://www.amazon.com'+price_url)        \n",
    "                    popo = BeautifulSoup(chrome.page_source,'lxml')\n",
    "                    \n",
    "                    try:\n",
    "                        obj1 = popo.select('a[class=\"a-link-normal\"] > span[class=\"a-size-base a-color-price\"]')[0].text\n",
    "                        p = re.search(r'(\\d+),(\\d+)',obj1)\n",
    "                        price = int(p.group().replace(',',''))\n",
    "                    except: \n",
    "                        price = 0                   \n",
    "                matchObj = re.split(r'\\s', brand_item, re.M|re.I)    \n",
    "                insert = \"INSERT INTO `price_comparison` (`brand`, `brand_item`,`price`, `page`, `search_date`)\"\n",
    "                insert += \" VALUES ( %s, %s,%s,%s,%s);\"\n",
    "                cursor.execute(insert,(matchObj[0],brand_item,price,i,search_date))\n",
    "                print(insert%(matchObj[0],brand_item,price,i,search_date))\n",
    "    except Exception as ex:\n",
    "        print(ex)\n",
    "conn.commit() \n",
    "tEnd = time.time()\n",
    "print(\"總共耗時:%f 秒\" % (tEnd-tStart))"
   ]
  },
  {
   "cell_type": "code",
   "execution_count": null,
   "metadata": {},
   "outputs": [],
   "source": [
    "conn.commit() \n",
    "conn.close()\n",
    "cursor.close()\n",
    "chrome.close() "
   ]
  }
 ],
 "metadata": {
  "kernelspec": {
   "display_name": "Python 3",
   "language": "python",
   "name": "python3"
  },
  "language_info": {
   "codemirror_mode": {
    "name": "ipython",
    "version": 3
   },
   "file_extension": ".py",
   "mimetype": "text/x-python",
   "name": "python",
   "nbconvert_exporter": "python",
   "pygments_lexer": "ipython3",
   "version": "3.7.7"
  }
 },
 "nbformat": 4,
 "nbformat_minor": 4
}
