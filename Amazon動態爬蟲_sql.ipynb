{
 "cells": [
  {
   "cell_type": "code",
   "execution_count": 1,
   "metadata": {},
   "outputs": [],
   "source": [
    "import requests\n",
    "from bs4 import BeautifulSoup\n",
    "import pandas as pd\n",
    "import numpy as np\n",
    "from selenium import webdriver\n",
    "from selenium.webdriver.chrome.options import Options\n",
    "import time\n",
    "import re\n",
    "from datetime import datetime, timedelta\n",
    "import pymysql\n",
    "from selenium.webdriver.support.ui import WebDriverWait"
   ]
  },
  {
   "cell_type": "code",
   "execution_count": 5,
   "metadata": {},
   "outputs": [
    {
     "name": "stderr",
     "output_type": "stream",
     "text": [
      "C:\\Users\\a4619\\Anaconda3\\lib\\site-packages\\ipykernel_launcher.py:5: DeprecationWarning: use options instead of chrome_options\n",
      "  \"\"\"\n"
     ]
    },
    {
     "name": "stdout",
     "output_type": "stream",
     "text": [
      "總共耗時:2.277080 秒\n"
     ]
    }
   ],
   "source": [
    "url=\"https://www.amazon.com/-/zh_TW/s?i=electronics-intl-ship&bbn=16225009011&rh=n%3A541966%2Cn%3A193870011%2Cn%3A17923671011%2Cn%3A284822&dc&page={}&language=zh_TW&qid=1598425548&rnid=17923671011&ref=sr_pg_{}\"\n",
    "options = webdriver.ChromeOptions()\n",
    "options.add_argument(\"--disable-notifications\")\n",
    "options.add_argument('headless')\n",
    "chrome = webdriver.Chrome('./chromedriver',chrome_options=options)\n",
    "data = {}\n",
    "tStart = time.time()\n",
    "for i in range(1,2):\n",
    "    chrome.get(url.format(i,i))\n",
    "    soup = BeautifulSoup(chrome.page_source,'lxml')\n",
    "    amazon_card = soup.find_all(class_=\"a-size-medium a-color-base a-text-normal\")  \n",
    "    data.setdefault('card',[]).append([ele.text for ele in amazon_card])\n",
    "chrome.close() \n",
    "tEnd = time.time()\n",
    "print(\"總共耗時:%f 秒\" % (tEnd-tStart))"
   ]
  },
  {
   "cell_type": "code",
   "execution_count": 40,
   "metadata": {},
   "outputs": [],
   "source": [
    "# 資料庫設定\n",
    "db_settings = {\n",
    "    \"host\": \"127.0.0.2\",\n",
    "    \"port\": 3306,\n",
    "    \"user\": \"root\",\n",
    "    \"password\": \"0531\",\n",
    "    \"db\": \"python\",\n",
    "    \"charset\": \"utf8\"\n",
    "}"
   ]
  },
  {
   "cell_type": "code",
   "execution_count": 44,
   "metadata": {},
   "outputs": [
    {
     "name": "stdout",
     "output_type": "stream",
     "text": [
      "(1054, \"Unknown column 'w' in 'field list'\")\n",
      "()\n"
     ]
    }
   ],
   "source": [
    "search_date = datetime.strftime(datetime.now() , '%Y-%m-%d')\n",
    "try:\n",
    "    # 建立Connection物件\n",
    "    conn = pymysql.connect(**db_settings)\n",
    "    # 建立Cursor物件\n",
    "    with conn.cursor() as cursor:\n",
    "        for adx,datas in enumerate(data['card']):\n",
    "            for every_data in datas:                \n",
    "                matchObj = re.split(r'\\s', every_data, re.M|re.I)\n",
    "                insert = \"INSERT INTO `price_comparison` (`brand`, `brand_item`, `page`, `search_date`)\"\n",
    "                insert += \" VALUES ( %s, %s,%s,%s);\"    \n",
    "                try:\n",
    "                    cursor.execute(insert,(matchObj[0],every_data,adx+1,search_date))\n",
    "                except Exception as ex:\n",
    "                    print(ex)\n",
    "                    break\n",
    "         \n",
    "        s_sql = \"select brand from price_comparison\"\n",
    "        cursor.execute(s_sql)\n",
    "        result = cursor.fetchall()\n",
    "        print(result)\n",
    "        \n",
    "        conn.commit() \n",
    "        cursor.close()\n",
    "        conn.close()\n",
    "except Exception as ex:\n",
    "    print(\"連線錯誤===\",ex)\n",
    "\n",
    "    "
   ]
  },
  {
   "cell_type": "code",
   "execution_count": null,
   "metadata": {},
   "outputs": [],
   "source": [
    "print(insert)"
   ]
  },
  {
   "cell_type": "code",
   "execution_count": 5,
   "metadata": {},
   "outputs": [
    {
     "name": "stdout",
     "output_type": "stream",
     "text": [
      "['MSI 微星 Gaming Radeon RX 5600 XT Boost Clock 顯卡： 1620 MHz 192 位元 6GB GDDR6 DP/HDMI 雙梅花型 3.0 風扇', 'MSI Gaming Radeon RX GDRR5 DirectX 12 VR Ready CFX 顯示卡', 'ZOTAC Gaming GeForce RTX 2060 6GB GDDR6 192 位元遊戲顯示卡 超輕巧型 ZT-T20600K-10M', 'ASUS ROG Strix AMD Radeon RX 5700XT Overclocked 8G GDDR6 HDMI DisplayPort Gaming Graphics Card (ROG-STRIX-RX5700XT-O8G-GAMING) 主機板', 'XFX HDMI 顯卡', 'Asus 華碩 GeForce GTX 1050 Ti 4GB 鳳凰風扇版 DVI-D HDMI DP 1.4 遊戲顯示卡 (PH-GTX1050TI-4G) 顯示卡', 'MSI Gaming Radeon RX GDRR5 DirectX 12 VR Ready CFX 顯示卡', 'Gigabyte 技嘉 Geforce GTX 1050 Ti 顯示卡 內建 4GB 記憶體 搭載風之力風扇 繪圖晶片（GV-N105TWF2OC-4GD）', 'MSI微星 Gaming GeForce RTX 3090 24GB GDRR6X 384-Bit HDMI/DP Nvlink Torx Fan 3 Ampere Architecture OC 顯示卡(RTX 3090 Ventus 3X 24G OC)', 'MSI微星 Gaming GeForce GT 710 2GB GDRR3 64-bit HDCP 支援 DirectX 12 OpenGL 4.5 單風扇低調顯卡(GT 710 2GD3 LP)', 'EVGA 06G-P4-1667-KR GeForce GTX 1660 Ti SC Ultra Gaming 6GB GDDR6,雙風扇', 'Sapphire 11265-67-20G Radeon Pulse RX 580 8GB GDDR5 雙 HDMI / 雙 DP OC 附背板 (UEFI) PCI-E 顯示卡', 'Gigabyte 技嘉 GV-N1030OC-2GI Nvidia GeForce GT 1030 OC 2G 顯示卡', 'EVGA 08G-P4-3067-KR GeForce RTX 2060 Super SC Ultra Gaming 8GB GDDR6,雙 HDB 風扇,金屬背板', 'Gigabyte 技嘉 GeForce GT 1030 GV-N1030D5-2GL 低調 2G 電腦顯示卡', 'MSI 微星 Gaming GeForce GTX 1060 6GB GDDR5 DirectX 12 VR Ready （GeForce GTX 1060 Gaming X 6G）顯示卡']\n",
      "['EVGA GeForce RTX 2060 SUPER SC 黑色電競,8GB GDDR6,雙風扇,08G-P4-3062-KR', 'ZOTAC 電競 GeForce RTX 3090 Trinity 24GB GDDR6X 384 位元 19.5 Gbps PCIE 4.0 電競顯示卡,IceStorm 2.0 進階冷卻,Spectra 2.0 RGB 照明,ZT-A30900D-10P', 'MSI微星 Gaming GeForce GTX 1660 Ti 192-bit HDMI/DP 6GB GDRR6 HDCP 支援 DirectX 12 雙風扇 VR Ready OC 顯示卡 (GTX 1660 TI Ventus XS 6G OC)', 'MSI微星 Gaming GeForce RTX 2060 6GB GDRR6 192-bit HDMI/DP Ray Tracing Turing Architecture VR Ready 顯示卡 (RTX 2060 VENTUS XS 6G OC)', 'MSI微星 Gaming GeForce GTX 1660 192-Bit HDMI/DP 6GB GDRR5 HDCP 支援 DirectX 12 雙風扇 VR Ready OC 顯示卡 (GTX 1660 VENTUS XS 6G OC)', 'MSI Gaming Radeon Rx 5700 Xt 256-bit 8GB GDDR6 HDMI/DP 雙風扇 Crossfire Freesync Navi Architecture 顯示卡 (RX 5700 Xt Gaming X)', 'Gigabyte 技嘉 RadeonRX 570 遊戲 8G rev.2.0 顯示卡,2X WINDFORCE 風扇,8GB 256 位元 GDDR6,GV-RX570GAMING-8GD Rev 2.0 顯示卡', 'EVGA 08G-P4-3071-KR GeForce RTX 2070 Super Gaming,8GB GDDR6', 'Gigabyte 技嘉 Gv-N1660OC-6GD GeForce GTX 1660 OC 6G 顯示卡,2X Windforce 風扇,6GB 192 位元 GDDR5,顯示卡', 'MSI 顯卡 GT 1030 2G LP OC', 'MSI微星 Gaming GeForce RTX 3090 24GB GDRR6X 384-Bit HDMI/DP Nvlink Tri-Frozr 2 Ampere Architecture OC 顯示卡(RTX 3090 Gaming X Trio 24G)', 'MSI微星 Gaming GeForce GTX 1660 Super 192 位元 HDMI/DP 6GB GDRR6 HDCP 支援 DirectX 12 雙風扇 支援虛擬實境 OC 顯示卡（GTX 1660 Super VENTUS XS OC）', 'PNY NVIDIA Quadro RTX 4000 - 世界第一射線追蹤 GPU', 'Asus GeForce GTX 1660 Super Overclocked 6GB Dual-Fan Evo Edition VR Ready HDMI DisplayPort DVI Graphics Card (DUAL-GTX1660S-O6G-EVO)', 'VisionTek Radeon 5450 2GB DDR3 (DVI-I、HDMI、VGA) 顯示卡 - 900861,黑色/紅色', 'MSI微星 Gaming GeForce RTX 2070 Super 8GB GDRR6 256-Bit HDMI/DP Nvlink Twin-Froze 圖靈架構超頻顯示卡(RTX 2070 Super Gaming X)']\n"
     ]
    }
   ],
   "source": [
    "for adx,datas in enumerate(data['card']):\n",
    "    print(datas)"
   ]
  },
  {
   "cell_type": "code",
   "execution_count": 47,
   "metadata": {},
   "outputs": [
    {
     "name": "stdout",
     "output_type": "stream",
     "text": [
      "<class 'str'>\n"
     ]
    }
   ],
   "source": [
    "insert = \"INSERT INTO `price_comparison` (`brand`, `brand_item`, `page`, `search_date`)\"\n",
    "                insert += \" VALUES ( %s, %s, %i,%s);\"\n",
    "                cursor.execute(insert,matchObj[0],every_data,adx+1,search_date)\n",
    "        conn.commit() "
   ]
  },
  {
   "cell_type": "code",
   "execution_count": 28,
   "metadata": {},
   "outputs": [],
   "source": [
    "conn.close()\n",
    "cursor.close()"
   ]
  }
 ],
 "metadata": {
  "kernelspec": {
   "display_name": "Python 3",
   "language": "python",
   "name": "python3"
  },
  "language_info": {
   "codemirror_mode": {
    "name": "ipython",
    "version": 3
   },
   "file_extension": ".py",
   "mimetype": "text/x-python",
   "name": "python",
   "nbconvert_exporter": "python",
   "pygments_lexer": "ipython3",
   "version": "3.7.7"
  }
 },
 "nbformat": 4,
 "nbformat_minor": 4
}
