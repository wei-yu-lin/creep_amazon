{
 "cells": [
  {
   "cell_type": "code",
   "execution_count": 3,
   "metadata": {},
   "outputs": [],
   "source": [
    "import json\n",
    "import requests\n",
    "from bs4 import BeautifulSoup\n",
    "import pandas as pd\n",
    "from selenium import webdriver\n",
    "from selenium.webdriver.common.keys import Keys\n",
    "from selenium.webdriver.chrome.options import Options\n",
    "import pandas\n",
    "import time\n",
    "import os\n",
    "import xlwt\n",
    "from openpyxl import load_workbook\n",
    "from shutil import move\n",
    "from datetime import datetime, timedelta\n",
    "from selenium.webdriver.support.ui import WebDriverWait"
   ]
  },
  {
   "cell_type": "code",
   "execution_count": 4,
   "metadata": {},
   "outputs": [
    {
     "name": "stdout",
     "output_type": "stream",
     "text": [
      "總共耗時:8.074801 秒\n"
     ]
    }
   ],
   "source": [
    "url=\"https://www.amazon.com/-/zh_TW/s?i=electronics-intl-ship&bbn=16225009011&rh=n%3A541966%2Cn%3A193870011%2Cn%3A17923671011%2Cn%3A284822&dc&page={}&language=zh_TW&qid=1598425548&rnid=17923671011&ref=sr_pg_{}\"\n",
    "options = Options()\n",
    "options.add_argument(\"--disable-notifications\")\n",
    "options.add_argument('headless')\n",
    "chrome = webdriver.Chrome('./chromedriver')\n",
    "amazon_allpage = []\n",
    "data = []\n",
    "tStart = time.time()\n",
    "for i in range(1,3):\n",
    "    chrome.get(url.format(i,i))\n",
    "    soup = BeautifulSoup(chrome.page_source,'lxml')\n",
    "    amazon_card=soup.find_all(class_=\"a-size-medium a-color-base a-text-normal\")\n",
    "    if len(amazon_card) == 0:\n",
    "        print(\"找不到顯示卡標題\")\n",
    "        break\n",
    "    data.append([ele.text for ele in amazon_card])    \n",
    "chrome.close()    \n",
    "tEnd = time.time()\n",
    "print(\"總共耗時:%f 秒\" % (tEnd-tStart))"
   ]
  },
  {
   "cell_type": "code",
   "execution_count": 15,
   "metadata": {},
   "outputs": [
    {
     "name": "stdout",
     "output_type": "stream",
     "text": [
      "                                                  第一頁  \\\n",
      "0                                         XFX HDMI 顯卡   \n",
      "1   XFX Thicc Boost Up Graphics Card 內建式 纖維 10000M...   \n",
      "2   Gigabyte 技嘉 Gv-R57XTGAMING OC-8GD Radeon Rx 57...   \n",
      "3                                         XFX HDMI 顯卡   \n",
      "4   MSI Gaming GeForce RTX 2060 6GB GDRR6 192-bit ...   \n",
      "5   XFX RX 5700 XT 三重耗 8GB GDDR6 3xDP HDMI 顯示卡 RX-...   \n",
      "6   Sapphire 11265-05-20G Radeon Pulse RX 580，8GB，...   \n",
      "7   EVGA GeForce RTX 2060 Super XC Gaming, 8GB GDD...   \n",
      "8   PowerColor Red Devil Radeon RX 5700 XT 8GB GDD...   \n",
      "9   Sapphire 11293-01-20G Radeon PULSE RX 5700 Xt ...   \n",
      "10  Gigabyte 技嘉 Gv-N1660OC-6GD GeForce GTX 1660 OC...   \n",
      "11  MSI Gaming GeForce GTX 1660 192-Bit HDMI/DP 6G...   \n",
      "12  GIGABYTE GeForce GTX 1660 Ti OC 6G 192-bit GDD...   \n",
      "13  Sapphire 11293-03-40G Radeon NITRO+ RX 5700 XT...   \n",
      "14  MSI微星 Gaming GeForce GT 710 2GB GDRR3 64 位元 HD...   \n",
      "15  EVGA GeForce RTX 2080 Super Gaming LGA 775 (So...   \n",
      "\n",
      "                                                  第二頁  \n",
      "0   Asus TUF Gaming GeForce GTX 1660 Super Overclo...  \n",
      "1   MSI Gaming GeForce RTX 2080 Super 8GB GDRR6 25...  \n",
      "2   MSI Gaming GeForce RTX 2070 8GB GDRR6 256-Bit ...  \n",
      "3   EVGA GeForce RTX 2080 Super KO Gaming, 08G-P4-...  \n",
      "4   ASUS ROG Strix AMD Radeon RX 5700XT Overclocke...  \n",
      "5   ASUS Dual NVIDIA GeForce RTX 2070 Mini OC Edit...  \n",
      "6   NVIDIA GeForce RTX 2070 Super Founders Edition...  \n",
      "7   MSI Gaming GeForce RTX 2060 Super 8GB GDRR6 25...  \n",
      "8   MSI Gaming GeForce GTX 1660 Super 192-bit HDMI...  \n",
      "9   Gigabyte 技嘉 GV-N1030OC-2GI Nvidia GeForce GT 1...  \n",
      "10  EVGA GeForce RTX 2070 Super KO Gaming, 08G-P4-...  \n",
      "11  ZOTAC GAMING GeForce RTX 2060 SUPER MINI 8GB G...  \n",
      "12  Gigabyte 技嘉 Geforce GTX 1050 Ti 顯示卡 內建 4GB 記憶體...  \n",
      "13  MSI Gaming GeForce GTX 1660 Super 192-bit HDMI...  \n",
      "14                 NVIDIA Titan RTX Graphics Card 處理器  \n",
      "15  Gigabyte 技嘉 GV-N207SWF3OC-8GD GeForce RTX 2070...  \n"
     ]
    }
   ],
   "source": [
    "amazon_json = json.load(open(\"AMAZON_COMPUTER_PRICE\" + \".json\",encoding=\"utf-8\"))\n",
    "df = pd.DataFrame(data)\n",
    "df = df.T\n",
    "df.rename(columns={0:'第一頁',1:'第二頁'},inplace=True)\n",
    "print(df)"
   ]
  },
  {
   "cell_type": "code",
   "execution_count": 19,
   "metadata": {},
   "outputs": [
    {
     "ename": "TypeError",
     "evalue": "unhashable type: 'list'",
     "output_type": "error",
     "traceback": [
      "\u001b[1;31m---------------------------------------------------------------------------\u001b[0m",
      "\u001b[1;31mTypeError\u001b[0m                                 Traceback (most recent call last)",
      "\u001b[1;32m<ipython-input-19-1193ab35464b>\u001b[0m in \u001b[0;36m<module>\u001b[1;34m\u001b[0m\n\u001b[0;32m     16\u001b[0m \u001b[1;33m\u001b[0m\u001b[0m\n\u001b[0;32m     17\u001b[0m \u001b[1;31m# 將資料寫入excel\u001b[0m\u001b[1;33m\u001b[0m\u001b[1;33m\u001b[0m\u001b[1;33m\u001b[0m\u001b[0m\n\u001b[1;32m---> 18\u001b[1;33m \u001b[0mdf\u001b[0m\u001b[1;33m.\u001b[0m\u001b[0mto_excel\u001b[0m\u001b[1;33m(\u001b[0m\u001b[0mwriter\u001b[0m\u001b[1;33m,\u001b[0m \u001b[0msheet_name\u001b[0m\u001b[1;33m=\u001b[0m\u001b[0mamazon_json\u001b[0m\u001b[1;33m[\u001b[0m\u001b[1;34m'sheet_name'\u001b[0m\u001b[1;33m]\u001b[0m\u001b[1;33m,\u001b[0m \u001b[0mindex\u001b[0m\u001b[1;33m=\u001b[0m\u001b[1;32mFalse\u001b[0m\u001b[1;33m)\u001b[0m\u001b[1;33m\u001b[0m\u001b[1;33m\u001b[0m\u001b[0m\n\u001b[0m\u001b[0;32m     19\u001b[0m \u001b[1;32mif\u001b[0m \u001b[1;33m(\u001b[0m\u001b[0mlen\u001b[0m\u001b[1;33m(\u001b[0m\u001b[0mwriter\u001b[0m\u001b[1;33m.\u001b[0m\u001b[0mbook\u001b[0m\u001b[1;33m.\u001b[0m\u001b[0msheetnames\u001b[0m\u001b[1;33m)\u001b[0m \u001b[1;33m>\u001b[0m \u001b[1;36m1\u001b[0m\u001b[1;33m)\u001b[0m\u001b[1;33m:\u001b[0m  \u001b[1;31m# 若有其他sheet，刪除default sheet\u001b[0m\u001b[1;33m\u001b[0m\u001b[1;33m\u001b[0m\u001b[0m\n\u001b[0;32m     20\u001b[0m     \u001b[1;32mif\u001b[0m \u001b[1;34m'default'\u001b[0m \u001b[1;32min\u001b[0m \u001b[0mwriter\u001b[0m\u001b[1;33m.\u001b[0m\u001b[0mbook\u001b[0m\u001b[1;33m.\u001b[0m\u001b[0msheetnames\u001b[0m\u001b[1;33m:\u001b[0m\u001b[1;33m\u001b[0m\u001b[1;33m\u001b[0m\u001b[0m\n",
      "\u001b[1;32m~\\Anaconda3\\lib\\site-packages\\pandas\\core\\generic.py\u001b[0m in \u001b[0;36mto_excel\u001b[1;34m(self, excel_writer, sheet_name, na_rep, float_format, columns, header, index, index_label, startrow, startcol, engine, merge_cells, encoding, inf_rep, verbose, freeze_panes)\u001b[0m\n\u001b[0;32m   2179\u001b[0m             \u001b[0mstartcol\u001b[0m\u001b[1;33m=\u001b[0m\u001b[0mstartcol\u001b[0m\u001b[1;33m,\u001b[0m\u001b[1;33m\u001b[0m\u001b[1;33m\u001b[0m\u001b[0m\n\u001b[0;32m   2180\u001b[0m             \u001b[0mfreeze_panes\u001b[0m\u001b[1;33m=\u001b[0m\u001b[0mfreeze_panes\u001b[0m\u001b[1;33m,\u001b[0m\u001b[1;33m\u001b[0m\u001b[1;33m\u001b[0m\u001b[0m\n\u001b[1;32m-> 2181\u001b[1;33m             \u001b[0mengine\u001b[0m\u001b[1;33m=\u001b[0m\u001b[0mengine\u001b[0m\u001b[1;33m,\u001b[0m\u001b[1;33m\u001b[0m\u001b[1;33m\u001b[0m\u001b[0m\n\u001b[0m\u001b[0;32m   2182\u001b[0m         )\n\u001b[0;32m   2183\u001b[0m \u001b[1;33m\u001b[0m\u001b[0m\n",
      "\u001b[1;32m~\\Anaconda3\\lib\\site-packages\\pandas\\io\\formats\\excel.py\u001b[0m in \u001b[0;36mwrite\u001b[1;34m(self, writer, sheet_name, startrow, startcol, freeze_panes, engine)\u001b[0m\n\u001b[0;32m    733\u001b[0m             \u001b[0mstartrow\u001b[0m\u001b[1;33m=\u001b[0m\u001b[0mstartrow\u001b[0m\u001b[1;33m,\u001b[0m\u001b[1;33m\u001b[0m\u001b[1;33m\u001b[0m\u001b[0m\n\u001b[0;32m    734\u001b[0m             \u001b[0mstartcol\u001b[0m\u001b[1;33m=\u001b[0m\u001b[0mstartcol\u001b[0m\u001b[1;33m,\u001b[0m\u001b[1;33m\u001b[0m\u001b[1;33m\u001b[0m\u001b[0m\n\u001b[1;32m--> 735\u001b[1;33m             \u001b[0mfreeze_panes\u001b[0m\u001b[1;33m=\u001b[0m\u001b[0mfreeze_panes\u001b[0m\u001b[1;33m,\u001b[0m\u001b[1;33m\u001b[0m\u001b[1;33m\u001b[0m\u001b[0m\n\u001b[0m\u001b[0;32m    736\u001b[0m         )\n\u001b[0;32m    737\u001b[0m         \u001b[1;32mif\u001b[0m \u001b[0mneed_save\u001b[0m\u001b[1;33m:\u001b[0m\u001b[1;33m\u001b[0m\u001b[1;33m\u001b[0m\u001b[0m\n",
      "\u001b[1;32m~\\Anaconda3\\lib\\site-packages\\pandas\\io\\excel\\_openpyxl.py\u001b[0m in \u001b[0;36mwrite_cells\u001b[1;34m(self, cells, sheet_name, startrow, startcol, freeze_panes)\u001b[0m\n\u001b[0;32m    413\u001b[0m         \u001b[0m_style_cache\u001b[0m \u001b[1;33m=\u001b[0m \u001b[1;33m{\u001b[0m\u001b[1;33m}\u001b[0m\u001b[1;33m\u001b[0m\u001b[1;33m\u001b[0m\u001b[0m\n\u001b[0;32m    414\u001b[0m \u001b[1;33m\u001b[0m\u001b[0m\n\u001b[1;32m--> 415\u001b[1;33m         \u001b[1;32mif\u001b[0m \u001b[0msheet_name\u001b[0m \u001b[1;32min\u001b[0m \u001b[0mself\u001b[0m\u001b[1;33m.\u001b[0m\u001b[0msheets\u001b[0m\u001b[1;33m:\u001b[0m\u001b[1;33m\u001b[0m\u001b[1;33m\u001b[0m\u001b[0m\n\u001b[0m\u001b[0;32m    416\u001b[0m             \u001b[0mwks\u001b[0m \u001b[1;33m=\u001b[0m \u001b[0mself\u001b[0m\u001b[1;33m.\u001b[0m\u001b[0msheets\u001b[0m\u001b[1;33m[\u001b[0m\u001b[0msheet_name\u001b[0m\u001b[1;33m]\u001b[0m\u001b[1;33m\u001b[0m\u001b[1;33m\u001b[0m\u001b[0m\n\u001b[0;32m    417\u001b[0m         \u001b[1;32melse\u001b[0m\u001b[1;33m:\u001b[0m\u001b[1;33m\u001b[0m\u001b[1;33m\u001b[0m\u001b[0m\n",
      "\u001b[1;31mTypeError\u001b[0m: unhashable type: 'list'"
     ]
    }
   ],
   "source": [
    "now_date = datetime.strftime(datetime.now() , '%Y%m%d')\n",
    "# 沒檔案的話則建立\n",
    "output_file = now_date + \"_amazon_graphics card.xlsx\"\n",
    "target_path = \"E:\\\\python\\\\比價、受歡迎系統\\\\Amazon\\\\Amazon_graphics_card\\\\\"\n",
    "if os.path.exists(output_file) == False:\n",
    "    writer = pd.ExcelWriter(output_file, engine='openpyxl')\n",
    "    writer.book.create_sheet('default')  # 新增空sheet\n",
    "else:  # 如果檔案存在，append\n",
    "    book = load_workbook(output_file)\n",
    "    writer = pd.ExcelWriter(output_file, engine='openpyxl')\n",
    "    writer.book = book\n",
    "# 假如excel已經有json的sheet_name則移除excel的sheet\n",
    "if amazon_json['sheet_name'] in writer.book.sheetnames:\n",
    "    writer.book.remove(writer.book[amazon_json['sheet_name']])\n",
    "\n",
    "\n",
    "# 將資料寫入excel\n",
    "df.to_excel(writer, sheet_name=amazon_json['sheet_name'], index=False) \n",
    "\n",
    "if (len(writer.book.sheetnames) > 1):  # 若有其他sheet，刪除default sheet\n",
    "    if 'default' in writer.book.sheetnames:\n",
    "        writer.book.remove(writer.book['default'])    \n",
    "writer.save()  \n"
   ]
  },
  {
   "cell_type": "code",
   "execution_count": 20,
   "metadata": {},
   "outputs": [
    {
     "data": {
      "text/plain": [
       "'顯示卡'"
      ]
     },
     "execution_count": 20,
     "metadata": {},
     "output_type": "execute_result"
    }
   ],
   "source": [
    "amazon_json['sheet_name'][0]"
   ]
  },
  {
   "cell_type": "code",
   "execution_count": 12,
   "metadata": {},
   "outputs": [
    {
     "name": "stdout",
     "output_type": "stream",
     "text": [
      "20200901_amazon_graphics card.xlsx\n",
      "移動檔案完畢.\n"
     ]
    }
   ],
   "source": [
    "cwd = os.getcwd()\n",
    "curr_file = cwd +\"\\\\\"+ output_file\n",
    "target_file = target_path + output_file\n",
    "try:\n",
    "    move(curr_file, target_file)\n",
    "    print(output_file + \"\\n移動檔案完畢.\")\n",
    "except Exception as e:\n",
    "    print(output_file + \"\\n移動檔案失敗.\")\n",
    "    print(e.args)"
   ]
  }
 ],
 "metadata": {
  "kernelspec": {
   "display_name": "Python 3",
   "language": "python",
   "name": "python3"
  },
  "language_info": {
   "codemirror_mode": {
    "name": "ipython",
    "version": 3
   },
   "file_extension": ".py",
   "mimetype": "text/x-python",
   "name": "python",
   "nbconvert_exporter": "python",
   "pygments_lexer": "ipython3",
   "version": "3.7.7"
  }
 },
 "nbformat": 4,
 "nbformat_minor": 4
}
