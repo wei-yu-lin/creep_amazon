{
 "cells": [
  {
   "cell_type": "code",
   "execution_count": 128,
   "metadata": {},
   "outputs": [],
   "source": [
    "import json\n",
    "import requests\n",
    "from bs4 import BeautifulSoup\n",
    "import pandas as pd\n",
    "from selenium import webdriver\n",
    "from selenium.webdriver.common.keys import Keys\n",
    "from selenium.webdriver.chrome.options import Options\n",
    "import re\n",
    "import pandas\n",
    "import time\n",
    "import os\n",
    "import xlwt\n",
    "from openpyxl import load_workbook\n",
    "from shutil import move\n",
    "from datetime import datetime, timedelta\n",
    "from selenium.webdriver.support.ui import WebDriverWait"
   ]
  },
  {
   "cell_type": "code",
   "execution_count": 20,
   "metadata": {},
   "outputs": [
    {
     "name": "stdout",
     "output_type": "stream",
     "text": [
      "https://www.amazon.com/-/zh_TW/s?i=electronics-intl-ship&bbn=16225009011&rh=n%3A541966%2Cn%3A193870011%2Cn%3A17923671011%2Cn%3A284822&dc&page=1&language=zh_TW&qid=1598425548&rnid=17923671011&ref=sr_pg_1\n",
      "https://www.amazon.com/-/zh_TW/s?i=electronics-intl-ship&bbn=16225009011&rh=n%3A541966%2Cn%3A193870011%2Cn%3A17923671011%2Cn%3A284822&dc&page=2&language=zh_TW&qid=1598425548&rnid=17923671011&ref=sr_pg_2\n",
      "總共耗時:4.888713 秒\n"
     ]
    }
   ],
   "source": [
    "url=\"https://www.amazon.com/-/zh_TW/s?i=electronics-intl-ship&bbn=16225009011&rh=n%3A541966%2Cn%3A193870011%2Cn%3A17923671011%2Cn%3A284822&dc&page={}&language=zh_TW&qid=1598425548&rnid=17923671011&ref=sr_pg_{}\"\n",
    "options = webdriver.ChromeOptions()\n",
    "options.add_argument(\"--disable-notifications\")\n",
    "options.add_argument('headless')\n",
    "# options.add_argument('Mozilla/5.0 (iPhone; CPU iPhone OS 13_3 like Mac OS X) AppleWebKit/604.3.5 (KHTML, like Gecko) Version/13.0 MQQBrowser/10.1.1 Mobile/15B87 Safari/604.1 QBWebViewUA/2 QBWebViewType/1 WKType/1')\n",
    "# options.add_experimental_option('excludeSwitches', ['enable-automation'])\n",
    "chrome = webdriver.Chrome('./chromedriver', options=options)\n",
    "amazon_allpage = []\n",
    "data = []\n",
    "tStart = time.time()\n",
    "for i in range(1,3):\n",
    "    chrome.get(url.format(i,i))\n",
    "    print(url.format(i,i))\n",
    "    soup = BeautifulSoup(chrome.page_source,'lxml')\n",
    "    amazon_card=soup.find_all(class_=\"a-size-medium a-color-base a-text-normal\")\n",
    "    if len(amazon_card) == 0:\n",
    "        print(\"找不到顯示卡標題\")\n",
    "        break\n",
    "    data.append([ele.text for ele in amazon_card]) \n",
    "chrome.close()    \n",
    "tEnd = time.time()\n",
    "print(\"總共耗時:%f 秒\" % (tEnd-tStart))"
   ]
  },
  {
   "cell_type": "code",
   "execution_count": 96,
   "metadata": {},
   "outputs": [
    {
     "name": "stdout",
     "output_type": "stream",
     "text": [
      "XFX\n"
     ]
    }
   ],
   "source": [
    "amazon_json = json.load(open(\"AMAZON_COMPUTER_PRICE\" + \".json\",encoding=\"utf-8\"))\n",
    "print(amazon_json['title'][2])"
   ]
  },
  {
   "cell_type": "code",
   "execution_count": 127,
   "metadata": {},
   "outputs": [
    {
     "name": "stdout",
     "output_type": "stream",
     "text": [
      "XFX HDMI 顯卡\n",
      "MSI微星 Gaming GeForce RTX 2060 6GB GDRR6 192 位元 HDMI/DP 光線追蹤圖靈架構VR Ready 顯卡(RTX 2060 VENTUS XS 6G OC)\n",
      "XFX RX 5700 Xt Thicc III Ultra 8GB Boost 高達 2025MHz GDDR6 3xDP HDMI 顯示卡(Rx-57XT8TBD8)\n",
      "XFX HDMI 顯卡\n",
      "EVGA 06G-P4-1068-KR GeForce GTX 1660 Super Sc Ultra Gaming, 6GB GDDR6, Dual Fan, Metal Backplate\n",
      "MSI Gaming GeForce GTX 1660 192-Bit HDMI/DP 6GB GDRR5 HDCP Support DirectX 12 Dual Fan VR Ready OC Graphics Card (GTX 1660 VENTUS XS 6G OC) Socket AM2 插槽 ATX 主機板\n",
      "Sapphire 11265-05-20G Radeon Pulse RX 580，8GB，GDDR5（第五版圖形用雙倍資料傳輸率記憶體），雙 HDMI / DVI-D /雙 DP，超頻版本，帶背板（UEFI），PCI-E 接口 顯示卡\n",
      "Sapphire 11293-01-20G Radeon PULSE RX 5700 Xt 8GB GDDR6 HDMI/ TRIPLE DP OC 附背板(UEFI)PCIe 4.0 顯示卡\n",
      "XFX RX 5700 XT 三重耗 8GB GDDR6 3xDP HDMI 顯示卡 RX-57XT83LD8\n",
      "GIGABYTE GeForce GTX 1660 Ti OC 6G 192-bit GDDR6 DisplayPort 1.4 HDMI 2.0B 附 Windforce 2X 冷卻系統圖形卡- Gv-N166TOC-6GD\n",
      "MSI Gaming GeForce RTX 2080 Super 8GB GDRR6 256-Bit HDMI/DP Nvlink Tri-Frozr Turing Architecture Overclocked Graphics Card (RTX 2080 Super Gaming X Trio) Socket AM2 插槽 ATX 主機板\n",
      "Gigabyte 技嘉 Gv-R57XTGAMING OC-8GD Radeon Rx 5700 Xt Gaming OC 8G 顯示卡,PCIe 4.0,8GB 256-Bit GDDR6,顯示卡\n",
      "MSI微星 Gaming GeForce GT 710 2GB GDRR3 64 位元 HDCP 支援 DirectX 12 OpenGL 4.5 單風扇低調顯卡(GT 710 2GD3 LP)\n",
      "PowerColor Red Devil Radeon RX 5700 XT 8GB GDDR6 Graphics Card 處理器\n",
      "EVGA 06G-P4-2068-KR GeForce RTX 2060 KO Ultra Gaming,6GB GDDR6,雙風扇,金屬背板\n",
      "MSI Gaming GeForce RTX 2060 Super 8GB GDRR6 256-bit HDMI/DP G-SYNC Turing Architecture Overclocked Graphics Card (RTX 2060 Super Gaming X) Socket AM2 插槽 ATX 主機板\n",
      "Sapphire 11293-03-40G Radeon NITRO+ RX 5700 XT 8GB GDDR6 雙 HDMI / 雙 DP OC (UEFI) PCIe 4.0 顯示卡\n",
      "NVIDIA GeForce RTX 2070 Super Founders Edition 顯示卡\n",
      "Sapphire 11296-01-20G Radeon PULSE RX 5600 XT 14GBPS 6GB GDDR6 HDMI / TRIPLE DP OC 附背板(UEFI)PCIe 4.0 顯示卡\n",
      "EVGA 08G-P4-3173-KR GeForce RTX 2070 Super XC ultra gaming,8GB GDDR6,雙 HDB 風扇,RGB LED,金屬背板\n",
      "Gigabyte 技嘉 GV-N1030OC-2GI Nvidia GeForce GT 1030 OC 2G 顯示卡\n",
      "MSI Gaming GeForce GTX 1660 Super 192-bit HDMI/DP 6GB GDRR6 HDCP Support DirectX 12 Dual Fan VR Ready OC 顯卡（GTX 1660 Super VENTUS XS OC）\n",
      "MSI微星 Gaming Radeon RX 5600 XT 加速時脈:1620 MHz 192 位元 6GB GDDR6 DP/HDMI Dual Torx 3.0 Fans Freesync DirectX 12 Ready 顯示卡(RX 5600 XT Gaming MX)\n",
      "EVGA GeForce RTX 2080 電競顯示卡\n",
      "MSI微星 Gaming GeForce RTX 2060 6GB GDRR6 192 位元 HDMI/DP 光線追蹤圖層架構VR Ready 顯示卡(RTX 2060 GAMING Z 6G)\n",
      "Gigabyte 技嘉 Gv-N1660OC-6GD GeForce GTX 1660 OC 6G 顯示卡,2X Windforce 風扇,6GB 192 位元 GDDR5,顯示卡\n",
      "EVGA GeForce RTX 2070 Super KO Gaming,08G-P4-2072-KR,8GB GDDR6,雙風扇\n",
      "Gigabyte GeForce GTX 1650 D6 WINDFORCE OC 4G Graphics Card, 2X WINDFORCE Fans, 4GB 128-Bit GDDR6, GV-N1656WF2OC-4GD 顯示卡\n",
      "EVGA GeForce RTX 2060 Super XC Gaming, 8GB GDDR6，Dual HDB 風扇，RGB LED，金屬背板 + PowerLink 08G-P4-3162-Kp\n",
      "ZOTAC Gaming GeForce GTX 1660 Super 6GB GDDR6 192 位遊戲顯卡，超級緊湊，ZT-T16620F-10L\n",
      "MSI Gaming GeForce GTX 1660 Super 192-bit HDMI/DP 6GB GDRR6 HDCP Support DirectX 12 Dual Fan VR Ready OC Graphics Card (GTX 1660 Super Gaming X)\n",
      "ZOTAC Gaming GeForce RTX 2060 6GB GDDR6 192 位元遊戲顯示卡,超小巧、ZT-T20600H-10M\n"
     ]
    }
   ],
   "source": [
    "for adx,datas in enumerate(data):\n",
    "    df = 'df'+str(adx) \n",
    "    df = pd.DataFrame(datas,columns=['f'])\n",
    "    # 分種類並寫入json中\n",
    "    for aaa in columns_of_datas:\n",
    "        print(df['f'][aaa].lstrip(' '))"
   ]
  },
  {
   "cell_type": "code",
   "execution_count": 124,
   "metadata": {},
   "outputs": [
    {
     "name": "stdout",
     "output_type": "stream",
     "text": [
      "XFX HDMI 顯卡\n",
      "XFX HDMI 顯卡\n",
      "MSI微星 Gaming GeForce RTX 2060 6GB GDRR6 192 位元 HDMI/DP 光線追蹤圖靈架構VR Ready 顯卡(RTX 2060 VENTUS XS 6G OC)\n",
      "XFX RX 5700 Xt Thicc III Ultra 8GB Boost 高達 2025MHz GDDR6 3xDP HDMI 顯示卡(Rx-57XT8TBD8)\n",
      "XFX RX 5700 Xt Thicc III Ultra 8GB Boost 高達 2025MHz GDDR6 3xDP HDMI 顯示卡(Rx-57XT8TBD8)\n",
      "XFX HDMI 顯卡\n",
      "XFX HDMI 顯卡\n",
      "EVGA 06G-P4-1068-KR GeForce GTX 1660 Super Sc Ultra Gaming, 6GB GDDR6, Dual Fan, Metal Backplate\n",
      "MSI Gaming GeForce GTX 1660 192-Bit HDMI/DP 6GB GDRR5 HDCP Support DirectX 12 Dual Fan VR Ready OC Graphics Card (GTX 1660 VENTUS XS 6G OC) Socket AM2 插槽 ATX 主機板\n",
      "Sapphire 11265-05-20G Radeon Pulse RX 580，8GB，GDDR5（第五版圖形用雙倍資料傳輸率記憶體），雙 HDMI / DVI-D /雙 DP，超頻版本，帶背板（UEFI），PCI-E 接口 顯示卡\n",
      "Sapphire 11293-01-20G Radeon PULSE RX 5700 Xt 8GB GDDR6 HDMI/ TRIPLE DP OC 附背板(UEFI)PCIe 4.0 顯示卡\n",
      "XFX RX 5700 XT 三重耗 8GB GDDR6 3xDP HDMI 顯示卡 RX-57XT83LD8\n",
      "XFX RX 5700 XT 三重耗 8GB GDDR6 3xDP HDMI 顯示卡 RX-57XT83LD8\n",
      "GIGABYTE GeForce GTX 1660 Ti OC 6G 192-bit GDDR6 DisplayPort 1.4 HDMI 2.0B 附 Windforce 2X 冷卻系統圖形卡- Gv-N166TOC-6GD\n",
      "MSI Gaming GeForce RTX 2080 Super 8GB GDRR6 256-Bit HDMI/DP Nvlink Tri-Frozr Turing Architecture Overclocked Graphics Card (RTX 2080 Super Gaming X Trio) Socket AM2 插槽 ATX 主機板\n",
      "Gigabyte 技嘉 Gv-R57XTGAMING OC-8GD Radeon Rx 5700 Xt Gaming OC 8G 顯示卡,PCIe 4.0,8GB 256-Bit GDDR6,顯示卡\n",
      "MSI微星 Gaming GeForce GT 710 2GB GDRR3 64 位元 HDCP 支援 DirectX 12 OpenGL 4.5 單風扇低調顯卡(GT 710 2GD3 LP)\n",
      "PowerColor Red Devil Radeon RX 5700 XT 8GB GDDR6 Graphics Card 處理器\n",
      "EVGA 06G-P4-2068-KR GeForce RTX 2060 KO Ultra Gaming,6GB GDDR6,雙風扇,金屬背板\n",
      "MSI Gaming GeForce RTX 2060 Super 8GB GDRR6 256-bit HDMI/DP G-SYNC Turing Architecture Overclocked Graphics Card (RTX 2060 Super Gaming X) Socket AM2 插槽 ATX 主機板\n",
      "Sapphire 11293-03-40G Radeon NITRO+ RX 5700 XT 8GB GDDR6 雙 HDMI / 雙 DP OC (UEFI) PCIe 4.0 顯示卡\n",
      "NVIDIA GeForce RTX 2070 Super Founders Edition 顯示卡\n",
      "Sapphire 11296-01-20G Radeon PULSE RX 5600 XT 14GBPS 6GB GDDR6 HDMI / TRIPLE DP OC 附背板(UEFI)PCIe 4.0 顯示卡\n",
      "EVGA 08G-P4-3173-KR GeForce RTX 2070 Super XC ultra gaming,8GB GDDR6,雙 HDB 風扇,RGB LED,金屬背板\n",
      "Gigabyte 技嘉 GV-N1030OC-2GI Nvidia GeForce GT 1030 OC 2G 顯示卡\n",
      "MSI Gaming GeForce GTX 1660 Super 192-bit HDMI/DP 6GB GDRR6 HDCP Support DirectX 12 Dual Fan VR Ready OC 顯卡（GTX 1660 Super VENTUS XS OC）\n",
      "MSI微星 Gaming Radeon RX 5600 XT 加速時脈:1620 MHz 192 位元 6GB GDDR6 DP/HDMI Dual Torx 3.0 Fans Freesync DirectX 12 Ready 顯示卡(RX 5600 XT Gaming MX)\n",
      "EVGA GeForce RTX 2080 電競顯示卡\n",
      "MSI微星 Gaming GeForce RTX 2060 6GB GDRR6 192 位元 HDMI/DP 光線追蹤圖層架構VR Ready 顯示卡(RTX 2060 GAMING Z 6G)\n",
      "Gigabyte 技嘉 Gv-N1660OC-6GD GeForce GTX 1660 OC 6G 顯示卡,2X Windforce 風扇,6GB 192 位元 GDDR5,顯示卡\n",
      "EVGA GeForce RTX 2070 Super KO Gaming,08G-P4-2072-KR,8GB GDDR6,雙風扇\n",
      "Gigabyte GeForce GTX 1650 D6 WINDFORCE OC 4G Graphics Card, 2X WINDFORCE Fans, 4GB 128-Bit GDDR6, GV-N1656WF2OC-4GD 顯示卡\n",
      "EVGA GeForce RTX 2060 Super XC Gaming, 8GB GDDR6，Dual HDB 風扇，RGB LED，金屬背板 + PowerLink 08G-P4-3162-Kp\n",
      "ZOTAC Gaming GeForce GTX 1660 Super 6GB GDDR6 192 位遊戲顯卡，超級緊湊，ZT-T16620F-10L\n",
      "MSI Gaming GeForce GTX 1660 Super 192-bit HDMI/DP 6GB GDRR6 HDCP Support DirectX 12 Dual Fan VR Ready OC Graphics Card (GTX 1660 Super Gaming X)\n",
      "ZOTAC Gaming GeForce RTX 2060 6GB GDDR6 192 位元遊戲顯示卡,超小巧、ZT-T20600H-10M\n"
     ]
    }
   ],
   "source": [
    "for adx,datas in enumerate(data):\n",
    "    df = 'df'+str(adx) \n",
    "    df = pd.DataFrame(datas,columns=['f'])\n",
    "    #   每頁資料的數量\n",
    "    columns_of_datas = [ddd for ddd in range(0,len(datas))]  \n",
    "    \n",
    "    #   將每頁資料歸納種類\n",
    "    for aaa in columns_of_datas:\n",
    "        print(df['f'][aaa])\n",
    "        if amazon_json['title'][len(amazon_json['title'])-1] in df['f'][aaa]:\n",
    "            print(df['f'][aaa]) \n",
    "           "
   ]
  },
  {
   "cell_type": "code",
   "execution_count": 36,
   "metadata": {},
   "outputs": [],
   "source": [
    "now_date = datetime.strftime(datetime.now() , '%Y%m%d')\n",
    "# 沒檔案的話則建立\n",
    "output_file = now_date + \"_amazon_graphics card.xlsx\"\n",
    "target_path = \"E:\\\\python\\\\比價、受歡迎系統\\\\Amazon\\\\Amazon_graphics_card\\\\\"\n",
    "if os.path.exists(output_file) == False:\n",
    "    writer = pd.ExcelWriter(output_file, engine='openpyxl')\n",
    "    writer.book.create_sheet('default')  # 新增空sheet\n",
    "else:  # 如果檔案存在，append\n",
    "    book = load_workbook(output_file)\n",
    "    writer = pd.ExcelWriter(output_file, engine='openpyxl')\n",
    "    writer.book = book\n",
    "# 假如excel已經有json的sheet_name則移除excel的sheet\n",
    "if amazon_json['sheet_name'] in writer.book.sheetnames:\n",
    "    writer.book.remove(writer.book[amazon_json['sheet_name']])\n",
    "\n",
    "\n",
    "# 將資料寫入excel\n",
    "for adx,datas in enumerate(data):\n",
    "    df = 'df'+str(adx) \n",
    "    \n",
    "    df = pd.DataFrame(datas)\n",
    "    df.to_excel(writer, sheet_name=amazon_json['sheet_name'][adx], index=False)\n",
    "    \n",
    "if (len(writer.book.sheetnames) > 1):  # 若有其他sheet，刪除default sheet\n",
    "    if 'default' in writer.book.sheetnames:\n",
    "        writer.book.remove(writer.book['default'])    \n",
    "writer.save()  \n"
   ]
  },
  {
   "cell_type": "code",
   "execution_count": 37,
   "metadata": {},
   "outputs": [
    {
     "name": "stdout",
     "output_type": "stream",
     "text": [
      "20200907_amazon_graphics card.xlsx\n",
      "移動檔案完畢.\n"
     ]
    }
   ],
   "source": [
    "cwd = os.getcwd()\n",
    "curr_file = cwd +\"\\\\\"+ output_file\n",
    "target_file = target_path + output_file\n",
    "try:\n",
    "    move(curr_file, target_file)\n",
    "    print(output_file + \"\\n移動檔案完畢.\")\n",
    "except Exception as e:\n",
    "    print(output_file + \"\\n移動檔案失敗.\")\n",
    "    print(e.args)"
   ]
  }
 ],
 "metadata": {
  "kernelspec": {
   "display_name": "Python 3",
   "language": "python",
   "name": "python3"
  },
  "language_info": {
   "codemirror_mode": {
    "name": "ipython",
    "version": 3
   },
   "file_extension": ".py",
   "mimetype": "text/x-python",
   "name": "python",
   "nbconvert_exporter": "python",
   "pygments_lexer": "ipython3",
   "version": "3.7.7"
  }
 },
 "nbformat": 4,
 "nbformat_minor": 4
}
