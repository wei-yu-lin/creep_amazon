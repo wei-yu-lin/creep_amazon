{
 "cells": [
  {
   "cell_type": "code",
   "execution_count": 2,
   "metadata": {},
   "outputs": [],
   "source": [
    "import json\n",
    "import requests\n",
    "from bs4 import BeautifulSoup\n",
    "import pandas as pd\n",
    "from selenium import webdriver\n",
    "from selenium.webdriver.common.keys import Keys\n",
    "from selenium.webdriver.chrome.options import Options\n",
    "import re\n",
    "import pandas\n",
    "import time\n",
    "import os\n",
    "import xlwt\n",
    "from openpyxl import load_workbook\n",
    "from shutil import move\n",
    "from datetime import datetime, timedelta\n",
    "from selenium.webdriver.support.ui import WebDriverWait"
   ]
  },
  {
   "cell_type": "code",
   "execution_count": 11,
   "metadata": {},
   "outputs": [
    {
     "name": "stdout",
     "output_type": "stream",
     "text": [
      "https://www.amazon.com/-/zh_TW/s?i=electronics-intl-ship&bbn=16225009011&rh=n%3A541966%2Cn%3A193870011%2Cn%3A17923671011%2Cn%3A284822&dc&page=1&language=zh_TW&qid=1598425548&rnid=17923671011&ref=sr_pg_1\n",
      "https://www.amazon.com/-/zh_TW/s?i=electronics-intl-ship&bbn=16225009011&rh=n%3A541966%2Cn%3A193870011%2Cn%3A17923671011%2Cn%3A284822&dc&page=2&language=zh_TW&qid=1598425548&rnid=17923671011&ref=sr_pg_2\n",
      "總共耗時:8.251323 秒\n"
     ]
    }
   ],
   "source": [
    "url=\"https://www.amazon.com/-/zh_TW/s?i=electronics-intl-ship&bbn=16225009011&rh=n%3A541966%2Cn%3A193870011%2Cn%3A17923671011%2Cn%3A284822&dc&page={}&language=zh_TW&qid=1598425548&rnid=17923671011&ref=sr_pg_{}\"\n",
    "options = webdriver.ChromeOptions()\n",
    "options.add_argument(\"--disable-notifications\")\n",
    "options.add_argument('headless')\n",
    "options.add_argument('Mozilla/5.0 (iPhone; CPU iPhone OS 13_3 like Mac OS X) AppleWebKit/604.3.5 (KHTML, like Gecko) Version/13.0 MQQBrowser/10.1.1 Mobile/15B87 Safari/604.1 QBWebViewUA/2 QBWebViewType/1 WKType/1')\n",
    "options.add_experimental_option('excludeSwitches', ['enable-automation'])\n",
    "chrome = webdriver.Chrome('./chromedriver', options=options)\n",
    "amazon_allpage = []\n",
    "data = []\n",
    "tStart = time.time()\n",
    "for i in range(1,3):\n",
    "    chrome.get(url.format(i,i))\n",
    "    print(url.format(i,i))\n",
    "    soup = BeautifulSoup(chrome.page_source,'lxml')\n",
    "    amazon_card=soup.find_all(class_=\"a-size-medium a-color-base a-text-normal\")\n",
    "    if len(amazon_card) == 0:\n",
    "        print(\"找不到顯示卡標題\")\n",
    "        break\n",
    "    data.append([ele.text for ele in amazon_card]) \n",
    "chrome.close()    \n",
    "tEnd = time.time()\n",
    "print(\"總共耗時:%f 秒\" % (tEnd-tStart))"
   ]
  },
  {
   "cell_type": "code",
   "execution_count": 56,
   "metadata": {},
   "outputs": [
    {
     "name": "stdout",
     "output_type": "stream",
     "text": [
      "EVGA\n"
     ]
    }
   ],
   "source": [
    "amazon_json = json.load(open(\"AMAZON_COMPUTER_PRICE\" + \".json\",encoding=\"utf-8\"))\n",
    "print(amazon_json['title'][2])"
   ]
  },
  {
   "cell_type": "code",
   "execution_count": 52,
   "metadata": {},
   "outputs": [
    {
     "name": "stdout",
     "output_type": "stream",
     "text": [
      "{'sheet_name': ['顯示卡', '第二頁'], 'title': ['MSI微星', 'ZOTAC', 'EVGA', 'Sapphire', 'MSI', 'GIGABYTE', 'Gigabyte', 'NVIDIA', 'PowerColor', 'XFX']}\n"
     ]
    }
   ],
   "source": [
    "title=[]\n",
    "for adx,datas in enumerate(data):\n",
    "    df = 'df'+str(adx) \n",
    "    df = pd.DataFrame(datas,columns=['f'])\n",
    "    columns_of_datas = [ddd for ddd in range(0,len(datas))]  \n",
    "    # 分種類並寫入json中\n",
    "    for aaa in columns_of_datas:\n",
    "    # 正則表達式將標題的牌子切割出來\n",
    "        matchObj = re.split(r'\\s', df['f'][aaa], re.M|re.I)\n",
    "        title.append(matchObj[0])\n",
    "# 篩選重複的牌子        \n",
    "json_title_dumps = list(set(title))\n",
    "json_title = {'title': json_title_dumps}\n",
    "amazon_json.update(json_title)\n",
    "# 將整理好title的json寫入json檔案中\n",
    "with open('AMAZON_COMPUTER_PRICE.json', 'w', encoding='utf-8') as f:\n",
    "    json.dump(amazon_json, f, ensure_ascii=False, indent=4,sort_keys=True)\n",
    "print(amazon_json)"
   ]
  },
  {
   "cell_type": "code",
   "execution_count": 63,
   "metadata": {},
   "outputs": [
    {
     "ename": "SyntaxError",
     "evalue": "invalid syntax (<ipython-input-63-d0c944810621>, line 9)",
     "output_type": "error",
     "traceback": [
      "\u001b[1;36m  File \u001b[1;32m\"<ipython-input-63-d0c944810621>\"\u001b[1;36m, line \u001b[1;32m9\u001b[0m\n\u001b[1;33m    print(amazon_json['title'][aaa if aaa <= len(amazon_json['title'])-1])\u001b[0m\n\u001b[1;37m                                                                        ^\u001b[0m\n\u001b[1;31mSyntaxError\u001b[0m\u001b[1;31m:\u001b[0m invalid syntax\n"
     ]
    }
   ],
   "source": [
    "for adx,datas in enumerate(data):\n",
    "    df = 'df'+str(adx) \n",
    "    df = pd.DataFrame(datas,columns=['f'])\n",
    "    #   每頁資料的數量\n",
    "    columns_of_datas = [ddd for ddd in range(0,len(datas))]  \n",
    "    \n",
    "    #   將每頁資料歸納種類\n",
    "    for aaa in columns_of_datas:\n",
    "        print(amazon_json['title'][aaa if aaa <= len(amazon_json['title'])-1])\n",
    "#         if amazon_json['title'][len(amazon_json['title'])-1] in df['f'][aaa]:\n",
    "#             print(df['f'][aaa]) \n",
    "           "
   ]
  },
  {
   "cell_type": "code",
   "execution_count": 36,
   "metadata": {},
   "outputs": [],
   "source": [
    "now_date = datetime.strftime(datetime.now() , '%Y%m%d')\n",
    "# 沒檔案的話則建立\n",
    "output_file = now_date + \"_amazon_graphics card.xlsx\"\n",
    "target_path = \"E:\\\\python\\\\比價、受歡迎系統\\\\Amazon\\\\Amazon_graphics_card\\\\\"\n",
    "if os.path.exists(output_file) == False:\n",
    "    writer = pd.ExcelWriter(output_file, engine='openpyxl')\n",
    "    writer.book.create_sheet('default')  # 新增空sheet\n",
    "else:  # 如果檔案存在，append\n",
    "    book = load_workbook(output_file)\n",
    "    writer = pd.ExcelWriter(output_file, engine='openpyxl')\n",
    "    writer.book = book\n",
    "# 假如excel已經有json的sheet_name則移除excel的sheet\n",
    "if amazon_json['sheet_name'] in writer.book.sheetnames:\n",
    "    writer.book.remove(writer.book[amazon_json['sheet_name']])\n",
    "\n",
    "\n",
    "# 將資料寫入excel\n",
    "for adx,datas in enumerate(data):\n",
    "    df = 'df'+str(adx) \n",
    "    \n",
    "    df = pd.DataFrame(datas)\n",
    "    df.to_excel(writer, sheet_name=amazon_json['sheet_name'][adx], index=False)\n",
    "    \n",
    "if (len(writer.book.sheetnames) > 1):  # 若有其他sheet，刪除default sheet\n",
    "    if 'default' in writer.book.sheetnames:\n",
    "        writer.book.remove(writer.book['default'])    \n",
    "writer.save()  \n"
   ]
  },
  {
   "cell_type": "code",
   "execution_count": 37,
   "metadata": {},
   "outputs": [
    {
     "name": "stdout",
     "output_type": "stream",
     "text": [
      "20200907_amazon_graphics card.xlsx\n",
      "移動檔案完畢.\n"
     ]
    }
   ],
   "source": [
    "cwd = os.getcwd()\n",
    "curr_file = cwd +\"\\\\\"+ output_file\n",
    "target_file = target_path + output_file\n",
    "try:\n",
    "    move(curr_file, target_file)\n",
    "    print(output_file + \"\\n移動檔案完畢.\")\n",
    "except Exception as e:\n",
    "    print(output_file + \"\\n移動檔案失敗.\")\n",
    "    print(e.args)"
   ]
  }
 ],
 "metadata": {
  "kernelspec": {
   "display_name": "Python 3",
   "language": "python",
   "name": "python3"
  },
  "language_info": {
   "codemirror_mode": {
    "name": "ipython",
    "version": 3
   },
   "file_extension": ".py",
   "mimetype": "text/x-python",
   "name": "python",
   "nbconvert_exporter": "python",
   "pygments_lexer": "ipython3",
   "version": "3.7.7"
  }
 },
 "nbformat": 4,
 "nbformat_minor": 4
}
