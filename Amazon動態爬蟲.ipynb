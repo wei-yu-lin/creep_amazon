{
 "cells": [
  {
   "cell_type": "code",
   "execution_count": 2,
   "metadata": {},
   "outputs": [],
   "source": [
    "import json\n",
    "import requests\n",
    "from bs4 import BeautifulSoup\n",
    "import pandas as pd\n",
    "import numpy as np\n",
    "from selenium import webdriver\n",
    "from selenium.webdriver.common.keys import Keys\n",
    "from selenium.webdriver.chrome.options import Options\n",
    "import time\n",
    "import re\n",
    "import os\n",
    "from openpyxl import load_workbook\n",
    "from shutil import move\n",
    "from datetime import datetime, timedelta\n",
    "from selenium.webdriver.support.ui import WebDriverWait"
   ]
  },
  {
   "cell_type": "code",
   "execution_count": 8,
   "metadata": {},
   "outputs": [
    {
     "name": "stdout",
     "output_type": "stream",
     "text": [
      "https://www.amazon.com/-/zh_TW/s?i=electronics-intl-ship&bbn=16225009011&rh=n%3A541966%2Cn%3A193870011%2Cn%3A17923671011%2Cn%3A284822&dc&page=1&language=zh_TW&qid=1598425548&rnid=17923671011&ref=sr_pg_1\n",
      "https://www.amazon.com/-/zh_TW/s?i=electronics-intl-ship&bbn=16225009011&rh=n%3A541966%2Cn%3A193870011%2Cn%3A17923671011%2Cn%3A284822&dc&page=2&language=zh_TW&qid=1598425548&rnid=17923671011&ref=sr_pg_2\n",
      "總共耗時:10.045718 秒\n"
     ]
    }
   ],
   "source": [
    "url=\"https://www.amazon.com/-/zh_TW/s?i=electronics-intl-ship&bbn=16225009011&rh=n%3A541966%2Cn%3A193870011%2Cn%3A17923671011%2Cn%3A284822&dc&page={}&language=zh_TW&qid=1598425548&rnid=17923671011&ref=sr_pg_{}\"\n",
    "options = webdriver.ChromeOptions()\n",
    "options.add_argument(\"--disable-notifications\")\n",
    "options.add_argument('headless')\n",
    "# options.add_argument('Mozilla/5.0 (iPhone; CPU iPhone OS 13_3 like Mac OS X) AppleWebKit/604.3.5 (KHTML, like Gecko) Version/13.0 MQQBrowser/10.1.1 Mobile/15B87 Safari/604.1 QBWebViewUA/2 QBWebViewType/1 WKType/1')\n",
    "chrome = webdriver.Chrome('./chromedriver')\n",
    "data = []\n",
    "tStart = time.time()\n",
    "for i in range(1,3):\n",
    "    chrome.get(url.format(i,i))\n",
    "    chrome.find_element_by_id('twotabsearchtextbox').send_keys(Keys.F12)\n",
    "    print(url.format(i,i))\n",
    "#     time.sleep(5)\n",
    "    soup = BeautifulSoup(chrome.page_source,'lxml')\n",
    "    amazon_card=soup.find_all(class_=\"a-size-medium a-color-base a-text-normal\")\n",
    "    if len(amazon_card) == 0:\n",
    "        print(\"找不到顯示卡標題\")\n",
    "        break\n",
    "    data.append([ele.text for ele in amazon_card])   \n",
    "chrome.close()    \n",
    "tEnd = time.time()\n",
    "print(\"總共耗時:%f 秒\" % (tEnd-tStart))"
   ]
  },
  {
   "cell_type": "code",
   "execution_count": 9,
   "metadata": {},
   "outputs": [
    {
     "name": "stdout",
     "output_type": "stream",
     "text": [
      "['EVGA', 'ZOTAC', 'ASUS', 'NVIDIA', 'MSI微星', 'XFX', 'Gigabyte', 'MSI', 'PowerColor', 'Sapphire']\n"
     ]
    }
   ],
   "source": [
    "amazon_json = json.load(open(\"AMAZON_COMPUTER_PRICE\" + \".json\",encoding=\"utf-8\"))\n",
    "print(amazon_json['title'])"
   ]
  },
  {
   "cell_type": "code",
   "execution_count": 10,
   "metadata": {},
   "outputs": [
    {
     "name": "stdout",
     "output_type": "stream",
     "text": [
      "{'sheet_name': '顯示卡', 'title': ['PowerColor', 'EVGA', 'Gigabyte', 'Sapphire', 'MSI微星', 'NVIDIA', 'MSI', 'ASUS', 'ZOTAC', 'XFX']}\n"
     ]
    }
   ],
   "source": [
    "title=[]\n",
    "for adx,datas in enumerate(data):\n",
    "    \n",
    "    df = 'df'+str(adx) \n",
    "    df = pd.DataFrame(datas,columns=['f'])\n",
    "    columns_of_datas = [ddd for ddd in range(0,len(datas))]  \n",
    "    # 分種類並寫入json中\n",
    "    for aaa in columns_of_datas:\n",
    "    # 正則表達式將標題的牌子切割出來\n",
    "        matchObj = re.split(r'\\s', df['f'][aaa], re.M|re.I)\n",
    "        title.append(matchObj[0])\n",
    "# 篩選重複的牌子        \n",
    "json_title_dumps = list(set(title))\n",
    "json_title = {'title': json_title_dumps}\n",
    "amazon_json.update(json_title)\n",
    "# 將整理好title的json寫入json檔案中\n",
    "with open('AMAZON_COMPUTER_PRICE.json', 'w', encoding='utf-8') as f:\n",
    "    json.dump(amazon_json, f, ensure_ascii=False, indent=4,sort_keys=True)\n",
    "print(amazon_json)"
   ]
  },
  {
   "cell_type": "code",
   "execution_count": 21,
   "metadata": {
    "scrolled": true
   },
   "outputs": [],
   "source": [
    "now_date = datetime.strftime(datetime.now() , '%Y%m%d')\n",
    "amazon_json = json.load(open(\"AMAZON_COMPUTER_PRICE\" + \".json\",encoding=\"utf-8\"))\n",
    "# 沒檔案的話則建立\n",
    "output_file = now_date + \"_amazon_graphics card.xlsx\"\n",
    "target_path = \"D:\\\\Amazon_graphics_card\\\\\"\n",
    "\n",
    "writer = pd.ExcelWriter(output_file, engine='openpyxl')\n",
    "# 20200924  \n",
    "title_dict={}\n",
    "def title_var(title,datas):\n",
    "    \n",
    "    for s_datas in datas:\n",
    "        for s_title in title:\n",
    "            if s_title in s_datas: \n",
    "                title_dict.setdefault(s_title,[]).append(s_datas)\n",
    "    return title_dict\n",
    "\n",
    "\n",
    "for adx,datas in enumerate(data):   \n",
    "    title_dict = title_var(amazon_json['title'],datas)   \n",
    "\n",
    "df = pd.DataFrame(title_dict.items()).T\n",
    "df.to_excel(writer,sheet_name=amazon_json['sheet_name']) \n",
    "writer.save() "
   ]
  },
  {
   "cell_type": "code",
   "execution_count": 22,
   "metadata": {},
   "outputs": [
    {
     "name": "stdout",
     "output_type": "stream",
     "text": [
      "20200924_amazon_graphics card.xlsx\n",
      "移動檔案完畢.\n"
     ]
    }
   ],
   "source": [
    "cwd = os.getcwd()\n",
    "curr_file = cwd + \"\\\\\" + output_file\n",
    "target_file = target_path + output_file\n",
    "\n",
    "try:\n",
    "    move(curr_file, target_file)\n",
    "    print(output_file + \"\\n移動檔案完畢.\")\n",
    "except Exception as e:\n",
    "    print(output_file + \"\\n移動檔案失敗.\")\n",
    "    print(e.args)"
   ]
  },
  {
   "cell_type": "code",
   "execution_count": 23,
   "metadata": {},
   "outputs": [
    {
     "data": {
      "text/plain": [
       "{'XFX': ['XFX HDMI 顯卡',\n",
       "  'XFX HDMI 顯卡',\n",
       "  'XFX RX 5700 Xt Thicc III Ultra 8GB Boost 高達 2025MHz GDDR6 3xDP HDMI 顯示卡(Rx-57XT8TBD8)',\n",
       "  'XFX RX 5700 XT 三重耗 8GB GDDR6 3xDP HDMI 顯示卡 RX-57XT83LD8'],\n",
       " 'EVGA': ['EVGA 06G-P4-2066-KR GeForce RTX 2060 KO Gaming,6GB GDDR6,雙風扇,金屬背板',\n",
       "  'EVGA 06G-P4-1068-KR GeForce GTX 1660 Super Sc Ultra Gaming, 6GB GDDR6, Dual Fan, Metal Backplate',\n",
       "  'EVGA 08G-P4-3173-KR GeForce RTX 2070 Super XC ultra gaming,8GB GDDR6,雙 HDB 風扇,RGB LED,金屬背板',\n",
       "  'EVGA GeForce RTX 2070 Super KO Gaming,08G-P4-2072-KR,8GB GDDR6,雙風扇',\n",
       "  'EVGA 08G-P4-3071-KR GeForce RTX 2070 Super Gaming, 8GB GDDR6 處理器',\n",
       "  'EVGA GeForce GTX 1650 Super SC Ultra Gaming, 4GB GDDR6, Dual Fan, Metal Backplate, 04G-P4-1357-KR PC（聚碳酸酯）',\n",
       "  'EVGA GeForce RTX 2070 Super XC 電競,8GB GDDR6,雙 HDB 風扇,RGB LED,金屬背板,08G-P4-3172-KR'],\n",
       " 'MSI微星': ['MSI微星 Gaming GeForce RTX 2060 6GB GDRR6 192 位元 HDMI/DP 光線追蹤圖靈架構VR Ready 顯卡(RTX 2060 VENTUS XS 6G OC)',\n",
       "  'MSI微星 Gaming GeForce RTX 2060 6GB GDRR6 192 位元 HDMI/DP 光線追蹤圖層架構VR Ready 顯示卡(RTX 2060 GAMING Z 6G)',\n",
       "  'MSI微星 Gaming Radeon RX 5600 XT 加速時脈:1620 MHz 192 位元 6GB GDDR6 DP/HDMI Dual Torx 3.0 Fans Freesync DirectX 12 Ready 顯示卡(RX 5600 XT Gaming MX)',\n",
       "  'MSI微星 Gaming GeForce GT 710 2GB GDRR3 64 位元 HDCP 支援 DirectX 12 OpenGL 4.5 單風扇低調顯卡(GT 710 2GD3 LP)',\n",
       "  'MSI微星 Gaming GeForce GTX 1660 Ti 192 位元 HDMI/DP 6GB GDRR6 HDCP 支援 DirectX 12 雙風扇 VR Ready OC 顯示卡(GTX 1660 TI Ventus XS 6G OC)',\n",
       "  'MSI微星 Gaming GeForce RTX 2080 Super 8GB GDRR6 256-Bit HDMI/DP Nvlink Tri-Frozr 圖靈架構超頻顯示卡(RTX 2080 Super Gaming X Trio)',\n",
       "  'MSI微星 Gaming GeForce GTX 1660 Super 192 位元 HDMI/DP 6GB GDRR6 HDCP 支援 DirectX 12 雙風扇 VR Ready OC 顯示卡(GTX 1660 Super VENTUS XS OC)',\n",
       "  'MSI微星 Gaming GeForce GTX 1660 Ti 192 位元 HDMI/DP 6GB GDRR6 HDCP 支援 DirectX 12 雙風扇 VR Ready OC 顯示卡(GTX 1660 TI Gaming X 6G)'],\n",
       " 'MSI': ['MSI微星 Gaming GeForce RTX 2060 6GB GDRR6 192 位元 HDMI/DP 光線追蹤圖靈架構VR Ready 顯卡(RTX 2060 VENTUS XS 6G OC)',\n",
       "  'MSI Gaming GeForce GTX 1660 192-Bit HDMI/DP 6GB GDRR5 HDCP Support DirectX 12 Dual Fan VR Ready OC Graphics Card (GTX 1660 VENTUS XS 6G OC) Socket AM2 插槽 ATX 主機板',\n",
       "  'MSI微星 Gaming GeForce RTX 2060 6GB GDRR6 192 位元 HDMI/DP 光線追蹤圖層架構VR Ready 顯示卡(RTX 2060 GAMING Z 6G)',\n",
       "  'MSI微星 Gaming Radeon RX 5600 XT 加速時脈:1620 MHz 192 位元 6GB GDDR6 DP/HDMI Dual Torx 3.0 Fans Freesync DirectX 12 Ready 顯示卡(RX 5600 XT Gaming MX)',\n",
       "  'MSI微星 Gaming GeForce GT 710 2GB GDRR3 64 位元 HDCP 支援 DirectX 12 OpenGL 4.5 單風扇低調顯卡(GT 710 2GD3 LP)',\n",
       "  'MSI微星 Gaming GeForce GTX 1660 Ti 192 位元 HDMI/DP 6GB GDRR6 HDCP 支援 DirectX 12 雙風扇 VR Ready OC 顯示卡(GTX 1660 TI Ventus XS 6G OC)',\n",
       "  'MSI Gaming GeForce GTX 1650 Super 128-Bit HDMI/DP 4GB GDRR6 HDCP Support DirectX 12 Dual Fan VR Ready OC Graphics Card (GTX 1650 Super Gaming X) 主機板',\n",
       "  'MSI微星 Gaming GeForce RTX 2080 Super 8GB GDRR6 256-Bit HDMI/DP Nvlink Tri-Frozr 圖靈架構超頻顯示卡(RTX 2080 Super Gaming X Trio)',\n",
       "  'MSI Gaming Radeon RX GDRR5 DirectX 12 VR Ready CFX 顯示卡',\n",
       "  'MSI微星 Gaming GeForce GTX 1660 Super 192 位元 HDMI/DP 6GB GDRR6 HDCP 支援 DirectX 12 雙風扇 VR Ready OC 顯示卡(GTX 1660 Super VENTUS XS OC)',\n",
       "  'MSI微星 Gaming GeForce GTX 1660 Ti 192 位元 HDMI/DP 6GB GDRR6 HDCP 支援 DirectX 12 雙風扇 VR Ready OC 顯示卡(GTX 1660 TI Gaming X 6G)',\n",
       "  'MSI Gaming GeForce GTX 1650 128-Bit HDMI/DP 4GB GDRR5 HDCP Support DirectX 12 Dual Fan VR Ready OC 顯卡（GTX 1650 Gaming X 4G）'],\n",
       " 'Sapphire': ['Sapphire 11265-05-20G Radeon Pulse RX 580，8GB，GDDR5（第五版圖形用雙倍資料傳輸率記憶體），雙 HDMI / DVI-D /雙 DP，超頻版本，帶背板（UEFI），PCI-E 接口 顯示卡',\n",
       "  'Sapphire 11293-01-20G Radeon PULSE RX 5700 Xt 8GB GDDR6 HDMI/ TRIPLE DP OC 附背板(UEFI)PCIe 4.0 顯示卡',\n",
       "  'Sapphire 11296-01-20G Radeon Pulse RX 5600 XT 14GBPS 6GB GDDR6 HDMI / Triple DP OC 附背板(UEFI) PCIe 4.0 顯示卡'],\n",
       " 'ZOTAC': ['ZOTAC Gaming GeForce GTX 1660 Super 6GB GDDR6 192 位遊戲顯卡，超級緊湊，ZT-T16620F-10L',\n",
       "  'ZOTAC Gaming GeForce RTX 2060 6GB GDDR6 192 位元遊戲顯示卡,超小巧、ZT-T20600H-10M'],\n",
       " 'NVIDIA': ['ASUS Dual NVIDIA GeForce RTX 2070 Mini OC Edition Gaming Graphics Card 內建式 7.1channels PCI',\n",
       "  'NVIDIA GeForce RTX 2070 Super Founders Edition 顯示卡'],\n",
       " 'ASUS': ['ASUS Dual NVIDIA GeForce RTX 2070 Mini OC Edition Gaming Graphics Card 內建式 7.1channels PCI'],\n",
       " 'PowerColor': ['PowerColor Red Devil Radeon RX 5700 XT 8GB GDDR6 Graphics Card 處理器'],\n",
       " 'Gigabyte': ['Gigabyte 技嘉 GV-N1030OC-2GI Nvidia GeForce GT 1030 OC 2G 顯示卡']}"
      ]
     },
     "execution_count": 23,
     "metadata": {},
     "output_type": "execute_result"
    }
   ],
   "source": [
    "title_dict"
   ]
  }
 ],
 "metadata": {
  "kernelspec": {
   "display_name": "Python 3",
   "language": "python",
   "name": "python3"
  },
  "language_info": {
   "codemirror_mode": {
    "name": "ipython",
    "version": 3
   },
   "file_extension": ".py",
   "mimetype": "text/x-python",
   "name": "python",
   "nbconvert_exporter": "python",
   "pygments_lexer": "ipython3",
   "version": "3.7.7"
  }
 },
 "nbformat": 4,
 "nbformat_minor": 4
}
