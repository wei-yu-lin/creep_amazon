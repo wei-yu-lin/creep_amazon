{
 "cells": [
  {
   "cell_type": "code",
   "execution_count": 1,
   "metadata": {},
   "outputs": [],
   "source": [
    "import json\n",
    "import requests\n",
    "from bs4 import BeautifulSoup\n",
    "import pandas as pd\n",
    "from selenium import webdriver\n",
    "from selenium.webdriver.common.keys import Keys\n",
    "from selenium.webdriver.chrome.options import Options\n",
    "import pandas\n",
    "import time\n",
    "import os\n",
    "from openpyxl import load_workbook\n",
    "from shutil import move\n",
    "from datetime import datetime, timedelta\n",
    "from selenium.webdriver.support.ui import WebDriverWait"
   ]
  },
  {
   "cell_type": "code",
   "execution_count": 8,
   "metadata": {},
   "outputs": [
    {
     "name": "stderr",
     "output_type": "stream",
     "text": [
      "C:\\ProgramData\\Anaconda3\\lib\\site-packages\\ipykernel_launcher.py:6: DeprecationWarning: use options instead of chrome_options\n",
      "  \n"
     ]
    },
    {
     "name": "stdout",
     "output_type": "stream",
     "text": [
      "https://www.amazon.com/-/zh_TW/s?i=electronics-intl-ship&bbn=16225009011&rh=n%3A541966%2Cn%3A193870011%2Cn%3A17923671011%2Cn%3A284822&dc&page=1&language=zh_TW&qid=1598425548&rnid=17923671011&ref=sr_pg_1\n",
      "https://www.amazon.com/-/zh_TW/s?i=electronics-intl-ship&bbn=16225009011&rh=n%3A541966%2Cn%3A193870011%2Cn%3A17923671011%2Cn%3A284822&dc&page=2&language=zh_TW&qid=1598425548&rnid=17923671011&ref=sr_pg_2\n",
      "總共耗時:17.975190 秒\n"
     ]
    }
   ],
   "source": [
    "url=\"https://www.amazon.com/-/zh_TW/s?i=electronics-intl-ship&bbn=16225009011&rh=n%3A541966%2Cn%3A193870011%2Cn%3A17923671011%2Cn%3A284822&dc&page={}&language=zh_TW&qid=1598425548&rnid=17923671011&ref=sr_pg_{}\"\n",
    "options = Options()\n",
    "options.add_argument(\"--disable-notifications\")\n",
    "options.add_argument('headless')\n",
    "options.add_argument('Mozilla/5.0 (iPhone; CPU iPhone OS 13_3 like Mac OS X) AppleWebKit/604.3.5 (KHTML, like Gecko) Version/13.0 MQQBrowser/10.1.1 Mobile/15B87 Safari/604.1 QBWebViewUA/2 QBWebViewType/1 WKType/1')\n",
    "chrome = webdriver.Chrome('./chromedriver', chrome_options=options)\n",
    "data = []\n",
    "tStart = time.time()\n",
    "for i in range(1,3):\n",
    "    chrome.get(url.format(i,i))\n",
    "    print(url.format(i,i))\n",
    "    time.sleep(5)\n",
    "    soup = BeautifulSoup(chrome.page_source,'lxml')\n",
    "    amazon_card=soup.find_all(class_=\"a-size-medium a-color-base a-text-normal\")\n",
    "    if len(amazon_card) == 0:\n",
    "        print(\"找不到顯示卡標題\")\n",
    "        break\n",
    "    data.append([ele.text for ele in amazon_card])   \n",
    "chrome.close()    \n",
    "tEnd = time.time()\n",
    "print(\"總共耗時:%f 秒\" % (tEnd-tStart))"
   ]
  },
  {
   "cell_type": "code",
   "execution_count": 9,
   "metadata": {
    "scrolled": true
   },
   "outputs": [
    {
     "name": "stdout",
     "output_type": "stream",
     "text": [
      "                                                    0\n",
      "0                                         XFX HDMI 顯卡\n",
      "1   XFX RX 5700 Xt Thicc III Ultra 8GB Boost 高達 20...\n",
      "2   MSI Gaming GeForce RTX 2060 6GB GDRR6 192-bit ...\n",
      "3                                         XFX HDMI 顯卡\n",
      "4   MSI Gaming GeForce GTX 1660 192-Bit HDMI/DP 6G...\n",
      "5   Sapphire 11265-05-20G Radeon Pulse RX 580，8GB，...\n",
      "6   Sapphire 11293-01-20G Radeon PULSE RX 5700 Xt ...\n",
      "7   XFX RX 5700 XT 三重耗 8GB GDDR6 3xDP HDMI 顯示卡 RX-...\n",
      "8   Gigabyte 技嘉 Gv-R57XTGAMING OC-8GD Radeon Rx 57...\n",
      "9   GIGABYTE GeForce GTX 1660 Ti OC 6G 192-bit GDD...\n",
      "10  MSI Gaming GeForce RTX 2060 Super 8GB GDRR6 25...\n",
      "11  PowerColor Red Devil Radeon RX 5700 XT 8GB GDD...\n",
      "12  MSI Gaming GeForce RTX 2080 Super 8GB GDRR6 25...\n",
      "13  Gigabyte 技嘉 Gv-N1660OC-6GD GeForce GTX 1660 OC...\n",
      "14  MSI微星 Gaming GeForce GT 710 2GB GDRR3 64 位元 HD...\n",
      "15  EVGA 06G-P4-1068-KR GeForce GTX 1660 Super Sc ...\n",
      "                                                    0\n",
      "0   EVGA GeForce RTX 2080 Super Gaming LGA 775 (So...\n",
      "1   Sapphire 11293-03-40G Radeon NITRO+ RX 5700 XT...\n",
      "2   Sapphire 11296-01-20G Radeon PULSE RX 5600 XT ...\n",
      "3   NVIDIA GeForce RTX 2070 Super Founders Edition...\n",
      "4   MSI Gaming GeForce GTX 1660 Super 192-bit HDMI...\n",
      "5   Gigabyte 技嘉 GV-N1030OC-2GI Nvidia GeForce GT 1...\n",
      "6   Asus TUF Gaming GeForce GTX 1660 Super Overclo...\n",
      "7   EVGA GeForce RTX 2060 Super XC Gaming, 8GB GDD...\n",
      "8   MSI微星 Gaming GeForce RTX 2060 6GB GDRR6 192 位元...\n",
      "9   MSI微星 Gaming Radeon RX 5600 XT 加速時脈:1620 MHz 1...\n",
      "10  ASUS ROG Strix AMD Radeon RX 5700XT Overclocke...\n",
      "11  ZOTAC Gaming GeForce GTX 1660 Super 6GB GDDR6 ...\n",
      "12  ZOTAC Gaming GeForce RTX 2060 6GB GDDR6 192 位元...\n",
      "13  Gigabyte GeForce GTX 1650 D6 WINDFORCE OC 4G G...\n",
      "14  MSI Gaming GeForce GTX 1660 Super 192-bit HDMI...\n",
      "15  MSI Gaming GeForce RTX 2070 8GB GDRR6 256-Bit ...\n"
     ]
    }
   ],
   "source": [
    "now_date = datetime.strftime(datetime.now() , '%Y%m%d')\n",
    "amazon_json = json.load(open(\"AMAZON_COMPUTER_PRICE\" + \".json\",encoding=\"utf-8\"))\n",
    "# 沒檔案的話則建立\n",
    "output_file = now_date + \"_amazon_graphics card.xlsx\"\n",
    "target_path = \"D:\\\\Amazon_graphics_card\\\\\"\n",
    "if os.path.exists(output_file) == False:\n",
    "    writer = pd.ExcelWriter(output_file, engine='openpyxl')\n",
    "    writer.book.create_sheet('default')  # 新增空sheet\n",
    "else:  # 如果檔案存在，append\n",
    "    book = load_workbook(output_file)\n",
    "    writer = pd.ExcelWriter(output_file, engine='openpyxl')\n",
    "    writer.book = book\n",
    "    \n",
    "if amazon_json['sheet_name'] in writer.book.sheetnames:\n",
    "    writer.book.remove(writer.book[amazon_json['sheet_name']])\n",
    "    \n",
    "\n",
    "for adx,datas in enumerate(data):\n",
    "    df = \"df\" + str(adx)    \n",
    "    df = pd.DataFrame(datas)\n",
    "    print(df)\n",
    "    df.to_excel(writer, index=False) \n",
    "\n",
    "\n",
    "# 寫入excel sheet\n",
    "  \n",
    "if (len(writer.book.sheetnames) > 1):  # 若有其他sheet，刪除default sheet\n",
    "    if 'default' in writer.book.sheetnames:\n",
    "        writer.book.remove(writer.book['default'])    \n",
    "writer.save()  \n"
   ]
  },
  {
   "cell_type": "code",
   "execution_count": 79,
   "metadata": {},
   "outputs": [
    {
     "name": "stdout",
     "output_type": "stream",
     "text": [
      "ASUS\n",
      "ACER\n"
     ]
    },
    {
     "ename": "IndexError",
     "evalue": "list index out of range",
     "output_type": "error",
     "traceback": [
      "\u001b[1;31m---------------------------------------------------------------------------\u001b[0m",
      "\u001b[1;31mIndexError\u001b[0m                                Traceback (most recent call last)",
      "\u001b[1;32m<ipython-input-79-6c66f58eddd8>\u001b[0m in \u001b[0;36m<module>\u001b[1;34m\u001b[0m\n\u001b[0;32m      5\u001b[0m     \u001b[1;32mfor\u001b[0m \u001b[0mi\u001b[0m \u001b[1;32min\u001b[0m \u001b[0mcolumns_of_datas\u001b[0m\u001b[1;33m:\u001b[0m\u001b[1;33m\u001b[0m\u001b[1;33m\u001b[0m\u001b[0m\n\u001b[0;32m      6\u001b[0m \u001b[1;33m\u001b[0m\u001b[0m\n\u001b[1;32m----> 7\u001b[1;33m         \u001b[0mprint\u001b[0m\u001b[1;33m(\u001b[0m\u001b[0mamazon_json\u001b[0m\u001b[1;33m[\u001b[0m\u001b[1;34m'title'\u001b[0m\u001b[1;33m]\u001b[0m\u001b[1;33m[\u001b[0m\u001b[0mi\u001b[0m\u001b[1;33m:\u001b[0m\u001b[0mlen\u001b[0m\u001b[1;33m(\u001b[0m\u001b[0mamazon_json\u001b[0m\u001b[1;33m[\u001b[0m\u001b[1;34m'title'\u001b[0m\u001b[1;33m]\u001b[0m\u001b[1;33m)\u001b[0m\u001b[1;33m]\u001b[0m\u001b[1;33m[\u001b[0m\u001b[1;36m0\u001b[0m\u001b[1;33m]\u001b[0m \u001b[1;33m)\u001b[0m\u001b[1;33m\u001b[0m\u001b[1;33m\u001b[0m\u001b[0m\n\u001b[0m\u001b[0;32m      8\u001b[0m \u001b[1;33m\u001b[0m\u001b[0m\n\u001b[0;32m      9\u001b[0m \u001b[1;33m\u001b[0m\u001b[0m\n",
      "\u001b[1;31mIndexError\u001b[0m: list index out of range"
     ]
    }
   ],
   "source": [
    "for adx,datas in enumerate(data):\n",
    "    df = 'df'+str(adx) \n",
    "    df = pd.DataFrame(datas,columns=['f'])\n",
    "    columns_of_datas = [ddd for ddd in range(0,len(datas))] \n",
    "    for i in columns_of_datas:   \n",
    "        \n",
    "        print(amazon_json['title'][i:len(amazon_json['title'])][0] )    \n",
    "        \n",
    "        \n",
    "#         if amazon_json['title'][i:len(amazon_json['title'])] in df['f'][i]:\n",
    "#             print(df['f'][i])"
   ]
  },
  {
   "cell_type": "code",
   "execution_count": 62,
   "metadata": {},
   "outputs": [
    {
     "name": "stdout",
     "output_type": "stream",
     "text": [
      "[0, 1, 2]\n"
     ]
    }
   ],
   "source": [
    "# print(len(amazon_json['title']))\n",
    "print([i for i in range(0,3)])"
   ]
  },
  {
   "cell_type": "code",
   "execution_count": 5,
   "metadata": {},
   "outputs": [
    {
     "name": "stdout",
     "output_type": "stream",
     "text": [
      "20200909_amazon_graphics card.xlsx\n",
      "移動檔案完畢.\n"
     ]
    }
   ],
   "source": [
    "cwd = os.getcwd()\n",
    "curr_file = cwd + \"\\\\\" + output_file\n",
    "target_file = target_path + output_file\n",
    "\n",
    "try:\n",
    "    move(curr_file, target_file)\n",
    "    print(output_file + \"\\n移動檔案完畢.\")\n",
    "except Exception as e:\n",
    "    print(output_file + \"\\n移動檔案失敗.\")\n",
    "    print(e.args)"
   ]
  }
 ],
 "metadata": {
  "kernelspec": {
   "display_name": "Python 3",
   "language": "python",
   "name": "python3"
  },
  "language_info": {
   "codemirror_mode": {
    "name": "ipython",
    "version": 3
   },
   "file_extension": ".py",
   "mimetype": "text/x-python",
   "name": "python",
   "nbconvert_exporter": "python",
   "pygments_lexer": "ipython3",
   "version": "3.7.7"
  }
 },
 "nbformat": 4,
 "nbformat_minor": 4
}
