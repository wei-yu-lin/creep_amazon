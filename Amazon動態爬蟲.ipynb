{
 "cells": [
  {
   "cell_type": "code",
   "execution_count": 1,
   "metadata": {},
   "outputs": [],
   "source": [
    "import json\n",
    "import requests\n",
    "from bs4 import BeautifulSoup\n",
    "import pandas as pd\n",
    "from selenium import webdriver\n",
    "from selenium.webdriver.common.keys import Keys\n",
    "from selenium.webdriver.chrome.options import Options\n",
    "import pandas\n",
    "import time\n",
    "import re\n",
    "import os\n",
    "from openpyxl import load_workbook\n",
    "from shutil import move\n",
    "from datetime import datetime, timedelta\n",
    "from selenium.webdriver.support.ui import WebDriverWait"
   ]
  },
  {
   "cell_type": "code",
   "execution_count": 2,
   "metadata": {},
   "outputs": [
    {
     "name": "stdout",
     "output_type": "stream",
     "text": [
      "https://www.amazon.com/-/zh_TW/s?i=electronics-intl-ship&bbn=16225009011&rh=n%3A541966%2Cn%3A193870011%2Cn%3A17923671011%2Cn%3A284822&dc&page=1&language=zh_TW&qid=1598425548&rnid=17923671011&ref=sr_pg_1\n",
      "https://www.amazon.com/-/zh_TW/s?i=electronics-intl-ship&bbn=16225009011&rh=n%3A541966%2Cn%3A193870011%2Cn%3A17923671011%2Cn%3A284822&dc&page=2&language=zh_TW&qid=1598425548&rnid=17923671011&ref=sr_pg_2\n",
      "總共耗時:14.655370 秒\n"
     ]
    }
   ],
   "source": [
    "url=\"https://www.amazon.com/-/zh_TW/s?i=electronics-intl-ship&bbn=16225009011&rh=n%3A541966%2Cn%3A193870011%2Cn%3A17923671011%2Cn%3A284822&dc&page={}&language=zh_TW&qid=1598425548&rnid=17923671011&ref=sr_pg_{}\"\n",
    "options = webdriver.ChromeOptions()\n",
    "options.add_argument(\"--disable-notifications\")\n",
    "options.add_argument('headless')\n",
    "# options.add_argument('Mozilla/5.0 (iPhone; CPU iPhone OS 13_3 like Mac OS X) AppleWebKit/604.3.5 (KHTML, like Gecko) Version/13.0 MQQBrowser/10.1.1 Mobile/15B87 Safari/604.1 QBWebViewUA/2 QBWebViewType/1 WKType/1')\n",
    "chrome = webdriver.Chrome('./chromedriver', options=options)\n",
    "data = []\n",
    "tStart = time.time()\n",
    "for i in range(1,3):\n",
    "    chrome.get(url.format(i,i))\n",
    "    print(url.format(i,i))\n",
    "    time.sleep(5)\n",
    "    soup = BeautifulSoup(chrome.page_source,'lxml')\n",
    "    amazon_card=soup.find_all(class_=\"a-size-medium a-color-base a-text-normal\")\n",
    "    if len(amazon_card) == 0:\n",
    "        print(\"找不到顯示卡標題\")\n",
    "        break\n",
    "    data.append([ele.text for ele in amazon_card])   \n",
    "chrome.close()    \n",
    "tEnd = time.time()\n",
    "print(\"總共耗時:%f 秒\" % (tEnd-tStart))"
   ]
  },
  {
   "cell_type": "code",
   "execution_count": 3,
   "metadata": {},
   "outputs": [
    {
     "name": "stdout",
     "output_type": "stream",
     "text": [
      "XFX\n"
     ]
    }
   ],
   "source": [
    "amazon_json = json.load(open(\"AMAZON_COMPUTER_PRICE\" + \".json\",encoding=\"utf-8\"))\n",
    "print(amazon_json['title'][2])"
   ]
  },
  {
   "cell_type": "code",
   "execution_count": 118,
   "metadata": {},
   "outputs": [
    {
     "ename": "TypeError",
     "evalue": "dumps() takes 1 positional argument but 2 were given",
     "output_type": "error",
     "traceback": [
      "\u001b[1;31m---------------------------------------------------------------------------\u001b[0m",
      "\u001b[1;31mTypeError\u001b[0m                                 Traceback (most recent call last)",
      "\u001b[1;32m<ipython-input-118-5a1e698a4d99>\u001b[0m in \u001b[0;36m<module>\u001b[1;34m\u001b[0m\n\u001b[0;32m     10\u001b[0m \u001b[1;31m# json_title = json.dumps(list((set(title))))\u001b[0m\u001b[1;33m\u001b[0m\u001b[1;33m\u001b[0m\u001b[1;33m\u001b[0m\u001b[0m\n\u001b[0;32m     11\u001b[0m \u001b[1;32mwith\u001b[0m \u001b[0mopen\u001b[0m\u001b[1;33m(\u001b[0m\u001b[1;34m'amazon_json'\u001b[0m \u001b[1;33m,\u001b[0m \u001b[1;34m'w'\u001b[0m\u001b[1;33m)\u001b[0m \u001b[1;32mas\u001b[0m \u001b[0mf\u001b[0m\u001b[1;33m:\u001b[0m\u001b[1;33m\u001b[0m\u001b[1;33m\u001b[0m\u001b[0m\n\u001b[1;32m---> 12\u001b[1;33m     \u001b[0mjson\u001b[0m\u001b[1;33m.\u001b[0m\u001b[0mdumps\u001b[0m\u001b[1;33m(\u001b[0m\u001b[0mlist\u001b[0m\u001b[1;33m(\u001b[0m\u001b[0mset\u001b[0m\u001b[1;33m(\u001b[0m\u001b[0mtitle\u001b[0m\u001b[1;33m)\u001b[0m\u001b[1;33m)\u001b[0m\u001b[1;33m,\u001b[0m\u001b[0mf\u001b[0m\u001b[1;33m)\u001b[0m\u001b[1;33m\u001b[0m\u001b[1;33m\u001b[0m\u001b[0m\n\u001b[0m\u001b[0;32m     13\u001b[0m \u001b[0mprint\u001b[0m\u001b[1;33m(\u001b[0m\u001b[0mlist\u001b[0m\u001b[1;33m(\u001b[0m\u001b[1;33m(\u001b[0m\u001b[0mset\u001b[0m\u001b[1;33m(\u001b[0m\u001b[0mtitle\u001b[0m\u001b[1;33m)\u001b[0m\u001b[1;33m)\u001b[0m\u001b[1;33m)\u001b[0m\u001b[1;33m)\u001b[0m\u001b[1;33m\u001b[0m\u001b[1;33m\u001b[0m\u001b[0m\n\u001b[0;32m     14\u001b[0m \u001b[1;33m\u001b[0m\u001b[0m\n",
      "\u001b[1;31mTypeError\u001b[0m: dumps() takes 1 positional argument but 2 were given"
     ]
    }
   ],
   "source": [
    "title=[]\n",
    "for adx,datas in enumerate(data):\n",
    "    df = 'df'+str(adx) \n",
    "    df = pd.DataFrame(datas,columns=['f'])\n",
    "    columns_of_datas = [ddd for ddd in range(0,len(datas))]  \n",
    "    # 分種類並寫入json中\n",
    "    for aaa in columns_of_datas:\n",
    "        matchObj = re.split(r'\\s', df['f'][aaa], re.M|re.I)\n",
    "        title.append(matchObj[0])\n",
    "# json_title = json.dumps(list((set(title))))\n",
    "with open('amazon_json' , 'w') as f:\n",
    "    json.dumps(list(set(title)),f)\n",
    "print(list((set(title))))\n",
    "    "
   ]
  },
  {
   "cell_type": "code",
   "execution_count": 4,
   "metadata": {},
   "outputs": [
    {
     "name": "stdout",
     "output_type": "stream",
     "text": [
      "XFX HDMI 顯卡\n",
      "XFX HDMI 顯卡\n",
      "XFX HDMI 顯卡\n",
      "XFX HDMI 顯卡\n",
      "MSI微星 Gaming GeForce RTX 2060 6GB GDRR6 192 位元 HDMI/DP 光線追蹤圖靈架構VR Ready 顯卡(RTX 2060 VENTUS XS 6G OC)\n",
      "XFX RX 5700 Xt Thicc III Ultra 8GB Boost 高達 2025MHz GDDR6 3xDP HDMI 顯示卡(Rx-57XT8TBD8)\n",
      "XFX RX 5700 Xt Thicc III Ultra 8GB Boost 高達 2025MHz GDDR6 3xDP HDMI 顯示卡(Rx-57XT8TBD8)\n",
      "EVGA 06G-P4-1068-KR GeForce GTX 1660 Super Sc Ultra Gaming, 6GB GDDR6, Dual Fan, Metal Backplate\n",
      "ASUS 華碩 RT-AX86U AX5700 雙頻 + WiFi 6 遊戲路由器,802.11ax,高達 2500 平方英尺和 35+ 設備,NVIDIA GeForce Now ,終身免費網路安全性,網狀 WiFi 支援,2.5G 端口,遊戲端口\n",
      "MSI Gaming GeForce GTX 1660 192-Bit HDMI/DP 6GB GDRR5 HDCP Support DirectX 12 Dual Fan VR Ready OC Graphics Card (GTX 1660 VENTUS XS 6G OC) Socket AM2 插槽 ATX 主機板\n",
      "Sapphire 11265-05-20G Radeon Pulse RX 580，8GB，GDDR5（第五版圖形用雙倍資料傳輸率記憶體），雙 HDMI / DVI-D /雙 DP，超頻版本，帶背板（UEFI），PCI-E 接口 顯示卡\n",
      "Sapphire 11293-01-20G Radeon PULSE RX 5700 Xt 8GB GDDR6 HDMI/ TRIPLE DP OC 附背板(UEFI)PCIe 4.0 顯示卡\n",
      "XFX RX 5700 XT 三重耗 8GB GDDR6 3xDP HDMI 顯示卡 RX-57XT83LD8\n",
      "XFX RX 5700 XT 三重耗 8GB GDDR6 3xDP HDMI 顯示卡 RX-57XT83LD8\n",
      "EVGA 06G-P4-2068-KR GeForce RTX 2060 KO Ultra Gaming,6GB GDDR6,雙風扇,金屬背板\n",
      "MSI微星 Gaming GeForce GT 710 2GB GDRR3 64 位元 HDCP 支援 DirectX 12 OpenGL 4.5 單風扇低調顯卡(GT 710 2GD3 LP)\n",
      "MSI Gaming GeForce RTX 2080 Super 8GB GDRR6 256-Bit HDMI/DP Nvlink Tri-Frozr Turing Architecture Overclocked Graphics Card (RTX 2080 Super Gaming X Trio) Socket AM2 插槽 ATX 主機板\n",
      "PowerColor Red Devil Radeon RX 5700 XT 8GB GDDR6 Graphics Card 處理器\n",
      "GIGABYTE GeForce GTX 1660 Ti OC 6G 192-bit GDDR6 DisplayPort 1.4 HDMI 2.0B 附 Windforce 2X 冷卻系統圖形卡- Gv-N166TOC-6GD\n",
      "EVGA 08G-P4-3173-KR GeForce RTX 2070 Super XC ultra gaming,8GB GDDR6,雙 HDB 風扇,RGB LED,金屬背板\n",
      "Sapphire 11296-01-20G Radeon PULSE RX 5600 XT 14GBPS 6GB GDDR6 HDMI / TRIPLE DP OC 附背板(UEFI)PCIe 4.0 顯示卡\n",
      "MSI微星 Gaming GeForce RTX 2060 6GB GDRR6 192 位元 HDMI/DP 光線追蹤圖層架構VR Ready 顯示卡(RTX 2060 GAMING Z 6G)\n",
      "Gigabyte 技嘉 Gv-R57XTGAMING OC-8GD Radeon Rx 5700 Xt Gaming OC 8G 顯示卡,PCIe 4.0,8GB 256-Bit GDDR6,顯示卡\n",
      "NVIDIA GeForce RTX 2070 Super Founders Edition 顯示卡\n",
      "MSI微星 Gaming Radeon RX 5600 XT 加速時脈:1620 MHz 192 位元 6GB GDDR6 DP/HDMI Dual Torx 3.0 Fans Freesync DirectX 12 Ready 顯示卡(RX 5600 XT Gaming MX)\n",
      "Gigabyte GeForce GTX 1650 D6 WINDFORCE OC 4G Graphics Card, 2X WINDFORCE Fans, 4GB 128-Bit GDDR6, GV-N1656WF2OC-4GD 顯示卡\n",
      "Gigabyte 技嘉 GV-N1030OC-2GI Nvidia GeForce GT 1030 OC 2G 顯示卡\n",
      "Sapphire 11293-03-40G Radeon NITRO+ RX 5700 XT 8GB GDDR6 雙 HDMI / 雙 DP OC (UEFI) PCIe 4.0 顯示卡\n",
      "MSI Gaming GeForce GTX 1660 Super 192-bit HDMI/DP 6GB GDRR6 HDCP Support DirectX 12 Dual Fan VR Ready OC 顯卡（GTX 1660 Super VENTUS XS OC）\n",
      "MSI Gaming GeForce RTX 2060 Super 8GB GDRR6 256-bit HDMI/DP G-SYNC Turing Architecture Overclocked Graphics Card (RTX 2060 Super Gaming X) Socket AM2 插槽 ATX 主機板\n",
      "EVGA GeForce RTX 2070 Super KO Gaming,08G-P4-2072-KR,8GB GDDR6,雙風扇\n",
      "MSI Gaming GeForce GTX 1660 Super 192-bit HDMI/DP 6GB GDRR6 HDCP Support DirectX 12 Dual Fan VR Ready OC Graphics Card (GTX 1660 Super Gaming X)\n",
      "MSI Gaming GeForce GTX 1650 128-Bit HDMI/DP 4GB GDRR5 HDCP Support DirectX 12 Dual Fan VR Ready OC 顯卡（GTX 1650 Gaming X 4G）\n",
      "ZOTAC Gaming GeForce GTX 1660 Super 6GB GDDR6 192 位遊戲顯卡，超級緊湊，ZT-T16620F-10L\n",
      "EVGA GeForce RTX 2080 電競顯示卡\n",
      "Gigabyte 技嘉 Gv-N1660OC-6GD GeForce GTX 1660 OC 6G 顯示卡,2X Windforce 風扇,6GB 192 位元 GDDR5,顯示卡\n"
     ]
    }
   ],
   "source": [
    "for adx,datas in enumerate(data):\n",
    "    df = 'df'+str(adx) \n",
    "    df = pd.DataFrame(datas,columns=['f'])\n",
    "    #   每頁資料的數量\n",
    "    columns_of_datas = [ddd for ddd in range(0,len(datas))]  \n",
    "    \n",
    "    #   將每頁資料歸納種類\n",
    "    for aaa in columns_of_datas:\n",
    "        print(df['f'][aaa])\n",
    "        if amazon_json['title'][len(amazon_json['title'])-1] in df['f'][aaa]:\n",
    "            print(df['f'][aaa])"
   ]
  },
  {
   "cell_type": "code",
   "execution_count": 9,
   "metadata": {
    "scrolled": true
   },
   "outputs": [
    {
     "name": "stdout",
     "output_type": "stream",
     "text": [
      "                                                    0\n",
      "0                                         XFX HDMI 顯卡\n",
      "1   XFX RX 5700 Xt Thicc III Ultra 8GB Boost 高達 20...\n",
      "2   MSI Gaming GeForce RTX 2060 6GB GDRR6 192-bit ...\n",
      "3                                         XFX HDMI 顯卡\n",
      "4   MSI Gaming GeForce GTX 1660 192-Bit HDMI/DP 6G...\n",
      "5   Sapphire 11265-05-20G Radeon Pulse RX 580，8GB，...\n",
      "6   Sapphire 11293-01-20G Radeon PULSE RX 5700 Xt ...\n",
      "7   XFX RX 5700 XT 三重耗 8GB GDDR6 3xDP HDMI 顯示卡 RX-...\n",
      "8   Gigabyte 技嘉 Gv-R57XTGAMING OC-8GD Radeon Rx 57...\n",
      "9   GIGABYTE GeForce GTX 1660 Ti OC 6G 192-bit GDD...\n",
      "10  MSI Gaming GeForce RTX 2060 Super 8GB GDRR6 25...\n",
      "11  PowerColor Red Devil Radeon RX 5700 XT 8GB GDD...\n",
      "12  MSI Gaming GeForce RTX 2080 Super 8GB GDRR6 25...\n",
      "13  Gigabyte 技嘉 Gv-N1660OC-6GD GeForce GTX 1660 OC...\n",
      "14  MSI微星 Gaming GeForce GT 710 2GB GDRR3 64 位元 HD...\n",
      "15  EVGA 06G-P4-1068-KR GeForce GTX 1660 Super Sc ...\n",
      "                                                    0\n",
      "0   EVGA GeForce RTX 2080 Super Gaming LGA 775 (So...\n",
      "1   Sapphire 11293-03-40G Radeon NITRO+ RX 5700 XT...\n",
      "2   Sapphire 11296-01-20G Radeon PULSE RX 5600 XT ...\n",
      "3   NVIDIA GeForce RTX 2070 Super Founders Edition...\n",
      "4   MSI Gaming GeForce GTX 1660 Super 192-bit HDMI...\n",
      "5   Gigabyte 技嘉 GV-N1030OC-2GI Nvidia GeForce GT 1...\n",
      "6   Asus TUF Gaming GeForce GTX 1660 Super Overclo...\n",
      "7   EVGA GeForce RTX 2060 Super XC Gaming, 8GB GDD...\n",
      "8   MSI微星 Gaming GeForce RTX 2060 6GB GDRR6 192 位元...\n",
      "9   MSI微星 Gaming Radeon RX 5600 XT 加速時脈:1620 MHz 1...\n",
      "10  ASUS ROG Strix AMD Radeon RX 5700XT Overclocke...\n",
      "11  ZOTAC Gaming GeForce GTX 1660 Super 6GB GDDR6 ...\n",
      "12  ZOTAC Gaming GeForce RTX 2060 6GB GDDR6 192 位元...\n",
      "13  Gigabyte GeForce GTX 1650 D6 WINDFORCE OC 4G G...\n",
      "14  MSI Gaming GeForce GTX 1660 Super 192-bit HDMI...\n",
      "15  MSI Gaming GeForce RTX 2070 8GB GDRR6 256-Bit ...\n"
     ]
    }
   ],
   "source": [
    "now_date = datetime.strftime(datetime.now() , '%Y%m%d')\n",
    "amazon_json = json.load(open(\"AMAZON_COMPUTER_PRICE\" + \".json\",encoding=\"utf-8\"))\n",
    "# 沒檔案的話則建立\n",
    "output_file = now_date + \"_amazon_graphics card.xlsx\"\n",
    "target_path = \"D:\\\\Amazon_graphics_card\\\\\"\n",
    "if os.path.exists(output_file) == False:\n",
    "    writer = pd.ExcelWriter(output_file, engine='openpyxl')\n",
    "    writer.book.create_sheet('default')  # 新增空sheet\n",
    "else:  # 如果檔案存在，append\n",
    "    book = load_workbook(output_file)\n",
    "    writer = pd.ExcelWriter(output_file, engine='openpyxl')\n",
    "    writer.book = book\n",
    "    \n",
    "if amazon_json['sheet_name'] in writer.book.sheetnames:\n",
    "    writer.book.remove(writer.book[amazon_json['sheet_name']])\n",
    "    \n",
    "\n",
    "for adx,datas in enumerate(data):\n",
    "    df = \"df\" + str(adx)    \n",
    "    df = pd.DataFrame(datas) \n",
    "    df.to_excel(writer, index=False) \n",
    "\n",
    "\n",
    "# 寫入excel sheet\n",
    "  \n",
    "if (len(writer.book.sheetnames) > 1):  # 若有其他sheet，刪除default sheet\n",
    "    if 'default' in writer.book.sheetnames:\n",
    "        writer.book.remove(writer.book['default'])    \n",
    "writer.save()  \n"
   ]
  },
  {
   "cell_type": "code",
   "execution_count": 5,
   "metadata": {},
   "outputs": [
    {
     "name": "stdout",
     "output_type": "stream",
     "text": [
      "20200909_amazon_graphics card.xlsx\n",
      "移動檔案完畢.\n"
     ]
    }
   ],
   "source": [
    "cwd = os.getcwd()\n",
    "curr_file = cwd + \"\\\\\" + output_file\n",
    "target_file = target_path + output_file\n",
    "\n",
    "try:\n",
    "    move(curr_file, target_file)\n",
    "    print(output_file + \"\\n移動檔案完畢.\")\n",
    "except Exception as e:\n",
    "    print(output_file + \"\\n移動檔案失敗.\")\n",
    "    print(e.args)"
   ]
  }
 ],
 "metadata": {
  "kernelspec": {
   "display_name": "Python 3",
   "language": "python",
   "name": "python3"
  },
  "language_info": {
   "codemirror_mode": {
    "name": "ipython",
    "version": 3
   },
   "file_extension": ".py",
   "mimetype": "text/x-python",
   "name": "python",
   "nbconvert_exporter": "python",
   "pygments_lexer": "ipython3",
   "version": "3.7.7"
  }
 },
 "nbformat": 4,
 "nbformat_minor": 4
}
