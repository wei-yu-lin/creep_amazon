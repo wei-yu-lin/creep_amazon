{
 "cells": [
  {
   "cell_type": "code",
   "execution_count": 124,
   "metadata": {},
   "outputs": [],
   "source": [
    "import json\n",
    "import requests\n",
    "from bs4 import BeautifulSoup\n",
    "import pandas as pd\n",
    "import numpy as np\n",
    "from selenium import webdriver\n",
    "from selenium.webdriver.common.keys import Keys\n",
    "from selenium.webdriver.chrome.options import Options\n",
    "import time\n",
    "import re\n",
    "import os\n",
    "from openpyxl import load_workbook\n",
    "from shutil import move\n",
    "from datetime import datetime, timedelta\n",
    "from selenium.webdriver.support.ui import WebDriverWait"
   ]
  },
  {
   "cell_type": "code",
   "execution_count": 2,
   "metadata": {},
   "outputs": [
    {
     "name": "stdout",
     "output_type": "stream",
     "text": [
      "https://www.amazon.com/-/zh_TW/s?i=electronics-intl-ship&bbn=16225009011&rh=n%3A541966%2Cn%3A193870011%2Cn%3A17923671011%2Cn%3A284822&dc&page=1&language=zh_TW&qid=1598425548&rnid=17923671011&ref=sr_pg_1\n",
      "https://www.amazon.com/-/zh_TW/s?i=electronics-intl-ship&bbn=16225009011&rh=n%3A541966%2Cn%3A193870011%2Cn%3A17923671011%2Cn%3A284822&dc&page=2&language=zh_TW&qid=1598425548&rnid=17923671011&ref=sr_pg_2\n",
      "總共耗時:10.303005 秒\n"
     ]
    }
   ],
   "source": [
    "url=\"https://www.amazon.com/-/zh_TW/s?i=electronics-intl-ship&bbn=16225009011&rh=n%3A541966%2Cn%3A193870011%2Cn%3A17923671011%2Cn%3A284822&dc&page={}&language=zh_TW&qid=1598425548&rnid=17923671011&ref=sr_pg_{}\"\n",
    "options = webdriver.ChromeOptions()\n",
    "options.add_argument(\"--disable-notifications\")\n",
    "options.add_argument('headless')\n",
    "# options.add_argument('Mozilla/5.0 (iPhone; CPU iPhone OS 13_3 like Mac OS X) AppleWebKit/604.3.5 (KHTML, like Gecko) Version/13.0 MQQBrowser/10.1.1 Mobile/15B87 Safari/604.1 QBWebViewUA/2 QBWebViewType/1 WKType/1')\n",
    "chrome = webdriver.Chrome('./chromedriver')\n",
    "data = []\n",
    "tStart = time.time()\n",
    "for i in range(1,3):\n",
    "    chrome.get(url.format(i,i))\n",
    "    chrome.find_element_by_id('twotabsearchtextbox').send_keys(Keys.F12)\n",
    "    print(url.format(i,i))\n",
    "#     time.sleep(5)\n",
    "    soup = BeautifulSoup(chrome.page_source,'lxml')\n",
    "    amazon_card=soup.find_all(class_=\"a-size-medium a-color-base a-text-normal\")\n",
    "    if len(amazon_card) == 0:\n",
    "        print(\"找不到顯示卡標題\")\n",
    "        break\n",
    "    data.append([ele.text for ele in amazon_card])   \n",
    "chrome.close()    \n",
    "tEnd = time.time()\n",
    "print(\"總共耗時:%f 秒\" % (tEnd-tStart))"
   ]
  },
  {
   "cell_type": "code",
   "execution_count": 3,
   "metadata": {},
   "outputs": [
    {
     "name": "stdout",
     "output_type": "stream",
     "text": [
      "['PowerColor', 'NVIDIA', 'Gigabyte', 'MSI', 'Sapphire', 'ZOTAC', 'MSI微星', 'XFX', 'EVGA', 'ASUS', 'GIGABYTE']\n"
     ]
    }
   ],
   "source": [
    "amazon_json = json.load(open(\"AMAZON_COMPUTER_PRICE\" + \".json\",encoding=\"utf-8\"))\n",
    "print(amazon_json['title'])"
   ]
  },
  {
   "cell_type": "code",
   "execution_count": 4,
   "metadata": {},
   "outputs": [
    {
     "name": "stdout",
     "output_type": "stream",
     "text": [
      "{'sheet_name': '顯示卡', 'title': ['Asus', 'MSI', 'Sapphire', 'PowerColor', 'MSI微星', 'NVIDIA', 'ASUS', 'Gigabyte', 'ZOTAC', 'XFX', 'EVGA']}\n"
     ]
    }
   ],
   "source": [
    "title=[]\n",
    "for adx,datas in enumerate(data):\n",
    "    \n",
    "    df = 'df'+str(adx) \n",
    "    df = pd.DataFrame(datas,columns=['f'])\n",
    "    columns_of_datas = [ddd for ddd in range(0,len(datas))]  \n",
    "    # 分種類並寫入json中\n",
    "    for aaa in columns_of_datas:\n",
    "    # 正則表達式將標題的牌子切割出來\n",
    "        matchObj = re.split(r'\\s', df['f'][aaa], re.M|re.I)\n",
    "        title.append(matchObj[0])\n",
    "# 篩選重複的牌子        \n",
    "json_title_dumps = list(set(title))\n",
    "json_title = {'title': json_title_dumps}\n",
    "amazon_json.update(json_title)\n",
    "# 將整理好title的json寫入json檔案中\n",
    "with open('AMAZON_COMPUTER_PRICE.json', 'w', encoding='utf-8') as f:\n",
    "    json.dump(amazon_json, f, ensure_ascii=False, indent=4,sort_keys=True)\n",
    "print(amazon_json)"
   ]
  },
  {
   "cell_type": "code",
   "execution_count": 13,
   "metadata": {
    "scrolled": true
   },
   "outputs": [],
   "source": [
    "now_date = datetime.strftime(datetime.now() , '%Y%m%d')\n",
    "amazon_json = json.load(open(\"AMAZON_COMPUTER_PRICE\" + \".json\",encoding=\"utf-8\"))\n",
    "# 沒檔案的話則建立\n",
    "output_file = now_date + \"_amazon_graphics card.xlsx\"\n",
    "target_path = \"D:\\\\Amazon_graphics_card\\\\\"\n",
    "if os.path.exists(output_file) == False:\n",
    "    writer = pd.ExcelWriter(output_file, engine='openpyxl')\n",
    "    writer.book.create_sheet('default')  # 新增空sheet\n",
    "else:  # 如果檔案存在，append\n",
    "    book = load_workbook(output_file)\n",
    "    writer = pd.ExcelWriter(output_file, engine='openpyxl')\n",
    "    writer.book = book\n",
    "    \n",
    "if amazon_json['sheet_name'] in writer.book.sheetnames:\n",
    "    writer.book.remove(writer.book[amazon_json['sheet_name']])\n",
    "    \n",
    "\n",
    "for adx,datas in enumerate(data):\n",
    "    df = \"df\" + str(adx)    \n",
    "    df = pd.DataFrame(datas) \n",
    "    df.to_excel(writer, index=False) \n",
    "\n",
    "\n",
    "# 寫入excel sheet\n",
    "  \n",
    "if (len(writer.book.sheetnames) > 1):  # 若有其他sheet，刪除default sheet\n",
    "    if 'default' in writer.book.sheetnames:\n",
    "        writer.book.remove(writer.book['default'])    \n",
    "writer.save()  \n"
   ]
  },
  {
   "cell_type": "code",
   "execution_count": 229,
   "metadata": {},
   "outputs": [
    {
     "name": "stdout",
     "output_type": "stream",
     "text": [
      "20200916_amazon_graphics card.xlsx\n",
      "移動檔案完畢.\n"
     ]
    }
   ],
   "source": [
    "cwd = os.getcwd()\n",
    "curr_file = cwd + \"\\\\\" + output_file\n",
    "target_file = target_path + output_file\n",
    "\n",
    "try:\n",
    "    move(curr_file, target_file)\n",
    "    print(output_file + \"\\n移動檔案完畢.\")\n",
    "except Exception as e:\n",
    "    print(output_file + \"\\n移動檔案失敗.\")\n",
    "    print(e.args)"
   ]
  },
  {
   "cell_type": "code",
   "execution_count": 64,
   "metadata": {
    "scrolled": true
   },
   "outputs": [
    {
     "ename": "SyntaxError",
     "evalue": "invalid syntax (<ipython-input-64-4afa7ed1f373>, line 5)",
     "output_type": "error",
     "traceback": [
      "\u001b[1;36m  File \u001b[1;32m\"<ipython-input-64-4afa7ed1f373>\"\u001b[1;36m, line \u001b[1;32m5\u001b[0m\n\u001b[1;33m    df = pd.DataFrame(*amazon_json['title'],sep=\"\\n\":['1'])\u001b[0m\n\u001b[1;37m                                                    ^\u001b[0m\n\u001b[1;31mSyntaxError\u001b[0m\u001b[1;31m:\u001b[0m invalid syntax\n"
     ]
    }
   ],
   "source": [
    "# 看這裡\n",
    "\n",
    "for adx,datas in enumerate(data):\n",
    "    df = 'df'+str(adx) \n",
    "#     每頁資料的數量\n",
    "    columns_of_datas = [ddd for ddd in range(0,len(datas))]    \n",
    "#     #   將每頁資料歸納種類  \n",
    "    for single_data in columns_of_datas:\n",
    "        df = pd.DataFrame({})\n",
    "#         if any(x in df['f'][single_data] for x in amazon_json['title']):\n",
    "#             print(df['f'][single_data])  "
   ]
  },
  {
   "cell_type": "code",
   "execution_count": 164,
   "metadata": {},
   "outputs": [
    {
     "name": "stdout",
     "output_type": "stream",
     "text": [
      "r 0 = XFX HDMI 顯卡\n",
      "r 1 = XFX RX 5700 XT 三重耗 8GB GDDR6 3xDP HDMI 顯示卡 RX-57XT83LD8\n"
     ]
    }
   ],
   "source": [
    "for adx,datas in enumerate(data):   \n",
    "    r1 = next((datas[0] for x in amazon_json['title'] if x in datas[0]),None) \n",
    "    \n",
    "    print('r',adx,'=',r1)\n"
   ]
  },
  {
   "cell_type": "code",
   "execution_count": 120,
   "metadata": {},
   "outputs": [
    {
     "name": "stdout",
     "output_type": "stream",
     "text": [
      "0    object\n",
      "1     int64\n",
      "dtype: object\n",
      "a= 0    object\n",
      "1    object\n",
      "dtype: object\n"
     ]
    }
   ],
   "source": [
    "df = pd.DataFrame([['A', 2], ['A', 4], ['B', 6]])\n",
    "print(df.dtypes)\n",
    "a =df.astype(str)\n",
    "print('a=',a.dtypes)"
   ]
  }
 ],
 "metadata": {
  "kernelspec": {
   "display_name": "Python 3",
   "language": "python",
   "name": "python3"
  },
  "language_info": {
   "codemirror_mode": {
    "name": "ipython",
    "version": 3
   },
   "file_extension": ".py",
   "mimetype": "text/x-python",
   "name": "python",
   "nbconvert_exporter": "python",
   "pygments_lexer": "ipython3",
   "version": "3.7.7"
  }
 },
 "nbformat": 4,
 "nbformat_minor": 4
}
