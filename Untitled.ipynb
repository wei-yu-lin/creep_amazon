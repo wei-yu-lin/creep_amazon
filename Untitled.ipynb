{
 "cells": [
  {
   "cell_type": "code",
   "execution_count": 8,
   "metadata": {},
   "outputs": [
    {
     "name": "stdout",
     "output_type": "stream",
     "text": [
      "46\n",
      "02\n",
      "23\n",
      "48\n",
      "28\n",
      "35\n",
      "05\n",
      "40\n",
      "45\n",
      "14\n",
      "46\n",
      "44\n",
      "47\n",
      "22\n",
      "30\n",
      "43\n",
      "04\n",
      "45\n",
      "33\n",
      "31\n",
      "25\n",
      "16\n",
      "24\n",
      "20\n",
      "47\n",
      "44\n",
      "42\n",
      "08\n",
      "40\n",
      "12\n",
      "19\n",
      "45\n",
      "44\n",
      "09\n",
      "06\n",
      "40\n",
      "31\n",
      "01\n",
      "11\n",
      "33\n",
      "05\n",
      "19\n"
     ]
    }
   ],
   "source": [
    "from bs4 import BeautifulSoup\n",
    "import requests\n",
    "r = requests.get(\"https://www.taiwanlottery.com.tw/lotto/lotto649/history.aspx\")\n",
    "soup = BeautifulSoup(r.text,\"lxml\")\n",
    "soup_no=[]      \n",
    "for i in range(0,7):    \n",
    "    for j in range(1,7):             \n",
    "        savage = \"Lotto649Control_history_dlQuery_SNo\"+str(j)+\"_\"+str(i)            \n",
    "        sub_list = savage[0:]       \n",
    "        list_result = soup.find('span',attrs={'id':savage}).string\n",
    "        print(list_result)"
   ]
  },
  {
   "cell_type": "code",
   "execution_count": 9,
   "metadata": {},
   "outputs": [
    {
     "name": "stdout",
     "output_type": "stream",
     "text": [
      "46\n",
      "02\n",
      "23\n",
      "48\n",
      "28\n",
      "35\n",
      "05\n",
      "40\n",
      "45\n",
      "14\n",
      "46\n",
      "44\n",
      "47\n",
      "22\n",
      "30\n",
      "43\n",
      "04\n",
      "45\n",
      "33\n",
      "31\n",
      "25\n",
      "16\n",
      "24\n",
      "20\n",
      "47\n",
      "44\n",
      "42\n",
      "08\n",
      "40\n",
      "12\n",
      "19\n",
      "45\n",
      "44\n",
      "09\n",
      "06\n",
      "40\n",
      "31\n",
      "01\n",
      "11\n",
      "33\n",
      "05\n",
      "19\n"
     ]
    }
   ],
   "source": [
    "from bs4 import BeautifulSoup\n",
    "import requests\n",
    "r = requests.get(\"https://www.taiwanlottery.com.tw/lotto/lotto649/history.aspx\")\n",
    "soup = BeautifulSoup(r.text,\"lxml\")\n",
    "soup_no=[]      \n",
    "for i in range(0,7):    \n",
    "    for j in range(1,7):             \n",
    "        savage = \"Lotto649Control_history_dlQuery_SNo\"+str(j)+\"_\"+str(i)            \n",
    "        sub_list = savage[0:]       \n",
    "        list_result = soup.find(id=savage).string\n",
    "        print(list_result)"
   ]
  },
  {
   "cell_type": "code",
   "execution_count": 25,
   "metadata": {},
   "outputs": [
    {
     "name": "stdout",
     "output_type": "stream",
     "text": [
      "[0, 1, 2, 3, 4, 5, 6, 7, 8, 9]\n",
      "['asd', 'as', 'ds']\n"
     ]
    }
   ],
   "source": [
    "aa =([i for i in range(0,10)])\n",
    "print(aa)\n",
    "pi = ['asd','as','ds']\n",
    "ss =[]\n",
    "for a in pi:\n",
    "    ss.append(a)\n",
    "print(ss)"
   ]
  },
  {
   "cell_type": "code",
   "execution_count": 4,
   "metadata": {},
   "outputs": [
    {
     "name": "stdout",
     "output_type": "stream",
     "text": [
      "pussy?\n"
     ]
    }
   ],
   "source": [
    "lists={\n",
    "    \"candy\":[\"其多\",\"樂事\",\"品客\"]\n",
    "}\n",
    "names=[lists,\"fendy\",\"pretty\"]\n",
    "asd,*aaa=names\n",
    "fff=names[0]\n",
    "print(lists.get(\"fendy\",\"pussy?\"))\n"
   ]
  },
  {
   "cell_type": "code",
   "execution_count": 28,
   "metadata": {},
   "outputs": [
    {
     "name": "stdout",
     "output_type": "stream",
     "text": [
      "['Line1-abcdef', 'Line2-abc', 'Line4-abcd']\n",
      "['Line1-abcdef', 'Line2-abc', 'Line4-abcd']\n"
     ]
    }
   ],
   "source": [
    "str = \"Line1-abcdef \\\n",
    "Line2-abc \\\n",
    "Line4-abcd\";\n",
    "print(str.split())\n",
    "print(str.split(\" \",1))"
   ]
  },
  {
   "cell_type": "code",
   "execution_count": 26,
   "metadata": {},
   "outputs": [
    {
     "name": "stdout",
     "output_type": "stream",
     "text": [
      "2\n"
     ]
    }
   ],
   "source": [
    "a, b, c = 1, 2, 3\n",
    "\n",
    "c = (a>b and [a] or [b])[0]\n",
    "print(c)\n"
   ]
  }
 ],
 "metadata": {
  "kernelspec": {
   "display_name": "Python 3",
   "language": "python",
   "name": "python3"
  },
  "language_info": {
   "codemirror_mode": {
    "name": "ipython",
    "version": 3
   },
   "file_extension": ".py",
   "mimetype": "text/x-python",
   "name": "python",
   "nbconvert_exporter": "python",
   "pygments_lexer": "ipython3",
   "version": "3.7.7"
  }
 },
 "nbformat": 4,
 "nbformat_minor": 4
}
